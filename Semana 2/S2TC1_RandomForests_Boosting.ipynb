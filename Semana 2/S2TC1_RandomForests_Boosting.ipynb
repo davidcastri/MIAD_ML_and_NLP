{
 "cells": [
  {
   "cell_type": "markdown",
   "source": "![image info](https://raw.githubusercontent.com/albahnsen/MIAD_ML_and_NLP/main/images/banner_1.png)",
   "metadata": {
    "cell_id": "fdf8b938-c632-4c6d-abbf-e4b0ce9fdc78",
    "deepnote_cell_type": "markdown",
    "deepnote_cell_height": 180.34375
   }
  },
  {
   "cell_type": "markdown",
   "source": "# Taller: Construcción e implementación de modelos Bagging, Random Forest y XGBoost\n\nEn este taller podrán poner en práctica sus conocimientos sobre la construcción e implementación de modelos de Bagging, Random Forest y XGBoost. El taller está constituido por 8 puntos, en los cuales deberan seguir las intrucciones de cada numeral para su desarrollo.",
   "metadata": {
    "cell_id": "00001-32f2d1ab-0406-492a-888d-746d779967cc",
    "deepnote_cell_type": "markdown",
    "deepnote_cell_height": 194.796875
   }
  },
  {
   "cell_type": "markdown",
   "source": "## Datos predicción precio de automóviles\n\nEn este taller se usará el conjunto de datos de Car Listings de Kaggle donde cada observación representa el precio de un automóvil teniendo en cuenta distintas variables como año, marca, modelo, entre otras. El objetivo es predecir si el precio del automóvil es alto o no. Para más detalles puede visitar el siguiente enlace: [datos](https://www.kaggle.com/jpayne/852k-used-car-listings).",
   "metadata": {
    "cell_id": "00002-371d2878-728f-404d-b6ac-62ff5368693f",
    "deepnote_cell_type": "markdown",
    "deepnote_cell_height": 153.1875
   }
  },
  {
   "cell_type": "code",
   "metadata": {
    "cell_id": "00003-a77d2cd1-a5e4-49af-987f-a11ebf059566",
    "deepnote_to_be_reexecuted": false,
    "source_hash": "17e3dbca",
    "execution_start": 1649646982737,
    "execution_millis": 19453126,
    "deepnote_cell_type": "code",
    "deepnote_cell_height": 99
   },
   "source": "import warnings\nwarnings.filterwarnings('ignore')",
   "execution_count": null,
   "outputs": []
  },
  {
   "cell_type": "code",
   "metadata": {
    "cell_id": "00004-828a97ac-76a8-4214-888a-71eea25a9c67",
    "deepnote_to_be_reexecuted": false,
    "source_hash": "dc60ce81",
    "execution_start": 1649646982738,
    "execution_millis": 4722,
    "deepnote_cell_type": "code",
    "deepnote_cell_height": 679.390625
   },
   "source": "# Importación de librerías\n%matplotlib inline\nimport pandas as pd\nimport numpy as np\n\n# Lectura de la información de archivo .csv\ndata = pd.read_csv('https://raw.githubusercontent.com/albahnsen/MIAD_ML_and_NLP/main/datasets/dataTrain_carListings.zip')\n\n# Preprocesamiento de datos para el taller\ndata = data.loc[data['Model'].str.contains('Camry')].drop(['Make', 'State'], axis=1)\ndata = data.join(pd.get_dummies(data['Model'], prefix='M'))\ndata['HighPrice'] = (data['Price'] > data['Price'].mean()).astype(int)\ndata = data.drop(['Model', 'Price'], axis=1)\n\n# Visualización dataset\ndata.head()",
   "execution_count": null,
   "outputs": [
    {
     "output_type": "execute_result",
     "execution_count": 2,
     "data": {
      "application/vnd.deepnote.dataframe.v3+json": {
       "column_count": 10,
       "row_count": 5,
       "columns": [
        {
         "name": "Year",
         "dtype": "int64",
         "stats": {
          "unique_count": 3,
          "nan_count": 0,
          "min": "2007",
          "max": "2016",
          "histogram": [
           {
            "bin_start": 2007,
            "bin_end": 2007.9,
            "count": 1
           },
           {
            "bin_start": 2007.9,
            "bin_end": 2008.8,
            "count": 0
           },
           {
            "bin_start": 2008.8,
            "bin_end": 2009.7,
            "count": 0
           },
           {
            "bin_start": 2009.7,
            "bin_end": 2010.6,
            "count": 0
           },
           {
            "bin_start": 2010.6,
            "bin_end": 2011.5,
            "count": 0
           },
           {
            "bin_start": 2011.5,
            "bin_end": 2012.4,
            "count": 0
           },
           {
            "bin_start": 2012.4,
            "bin_end": 2013.3,
            "count": 0
           },
           {
            "bin_start": 2013.3,
            "bin_end": 2014.2,
            "count": 3
           },
           {
            "bin_start": 2014.2,
            "bin_end": 2015.1,
            "count": 0
           },
           {
            "bin_start": 2015.1,
            "bin_end": 2016,
            "count": 1
           }
          ]
         }
        },
        {
         "name": "Mileage",
         "dtype": "int64",
         "stats": {
          "unique_count": 5,
          "nan_count": 0,
          "min": "6480",
          "max": "116065",
          "histogram": [
           {
            "bin_start": 6480,
            "bin_end": 17438.5,
            "count": 1
           },
           {
            "bin_start": 17438.5,
            "bin_end": 28397,
            "count": 1
           },
           {
            "bin_start": 28397,
            "bin_end": 39355.5,
            "count": 0
           },
           {
            "bin_start": 39355.5,
            "bin_end": 50314,
            "count": 1
           },
           {
            "bin_start": 50314,
            "bin_end": 61272.5,
            "count": 1
           },
           {
            "bin_start": 61272.5,
            "bin_end": 72231,
            "count": 0
           },
           {
            "bin_start": 72231,
            "bin_end": 83189.5,
            "count": 0
           },
           {
            "bin_start": 83189.5,
            "bin_end": 94148,
            "count": 0
           },
           {
            "bin_start": 94148,
            "bin_end": 105106.5,
            "count": 0
           },
           {
            "bin_start": 105106.5,
            "bin_end": 116065,
            "count": 1
           }
          ]
         }
        },
        {
         "name": "M_Camry",
         "dtype": "uint8",
         "stats": {
          "unique_count": 1,
          "nan_count": 0,
          "min": "0",
          "max": "0",
          "histogram": [
           {
            "bin_start": -0.5,
            "bin_end": -0.4,
            "count": 0
           },
           {
            "bin_start": -0.4,
            "bin_end": -0.3,
            "count": 0
           },
           {
            "bin_start": -0.3,
            "bin_end": -0.19999999999999996,
            "count": 0
           },
           {
            "bin_start": -0.19999999999999996,
            "bin_end": -0.09999999999999998,
            "count": 0
           },
           {
            "bin_start": -0.09999999999999998,
            "bin_end": 0,
            "count": 0
           },
           {
            "bin_start": 0,
            "bin_end": 0.10000000000000009,
            "count": 5
           },
           {
            "bin_start": 0.10000000000000009,
            "bin_end": 0.20000000000000007,
            "count": 0
           },
           {
            "bin_start": 0.20000000000000007,
            "bin_end": 0.30000000000000004,
            "count": 0
           },
           {
            "bin_start": 0.30000000000000004,
            "bin_end": 0.4,
            "count": 0
           },
           {
            "bin_start": 0.4,
            "bin_end": 0.5,
            "count": 0
           }
          ]
         }
        },
        {
         "name": "M_Camry4dr",
         "dtype": "uint8",
         "stats": {
          "unique_count": 2,
          "nan_count": 0,
          "min": "0",
          "max": "1",
          "histogram": [
           {
            "bin_start": 0,
            "bin_end": 0.1,
            "count": 4
           },
           {
            "bin_start": 0.1,
            "bin_end": 0.2,
            "count": 0
           },
           {
            "bin_start": 0.2,
            "bin_end": 0.30000000000000004,
            "count": 0
           },
           {
            "bin_start": 0.30000000000000004,
            "bin_end": 0.4,
            "count": 0
           },
           {
            "bin_start": 0.4,
            "bin_end": 0.5,
            "count": 0
           },
           {
            "bin_start": 0.5,
            "bin_end": 0.6000000000000001,
            "count": 0
           },
           {
            "bin_start": 0.6000000000000001,
            "bin_end": 0.7000000000000001,
            "count": 0
           },
           {
            "bin_start": 0.7000000000000001,
            "bin_end": 0.8,
            "count": 0
           },
           {
            "bin_start": 0.8,
            "bin_end": 0.9,
            "count": 0
           },
           {
            "bin_start": 0.9,
            "bin_end": 1,
            "count": 1
           }
          ]
         }
        },
        {
         "name": "M_CamryBase",
         "dtype": "uint8",
         "stats": {
          "unique_count": 1,
          "nan_count": 0,
          "min": "0",
          "max": "0",
          "histogram": [
           {
            "bin_start": -0.5,
            "bin_end": -0.4,
            "count": 0
           },
           {
            "bin_start": -0.4,
            "bin_end": -0.3,
            "count": 0
           },
           {
            "bin_start": -0.3,
            "bin_end": -0.19999999999999996,
            "count": 0
           },
           {
            "bin_start": -0.19999999999999996,
            "bin_end": -0.09999999999999998,
            "count": 0
           },
           {
            "bin_start": -0.09999999999999998,
            "bin_end": 0,
            "count": 0
           },
           {
            "bin_start": 0,
            "bin_end": 0.10000000000000009,
            "count": 5
           },
           {
            "bin_start": 0.10000000000000009,
            "bin_end": 0.20000000000000007,
            "count": 0
           },
           {
            "bin_start": 0.20000000000000007,
            "bin_end": 0.30000000000000004,
            "count": 0
           },
           {
            "bin_start": 0.30000000000000004,
            "bin_end": 0.4,
            "count": 0
           },
           {
            "bin_start": 0.4,
            "bin_end": 0.5,
            "count": 0
           }
          ]
         }
        },
        {
         "name": "M_CamryL",
         "dtype": "uint8",
         "stats": {
          "unique_count": 2,
          "nan_count": 0,
          "min": "0",
          "max": "1",
          "histogram": [
           {
            "bin_start": 0,
            "bin_end": 0.1,
            "count": 3
           },
           {
            "bin_start": 0.1,
            "bin_end": 0.2,
            "count": 0
           },
           {
            "bin_start": 0.2,
            "bin_end": 0.30000000000000004,
            "count": 0
           },
           {
            "bin_start": 0.30000000000000004,
            "bin_end": 0.4,
            "count": 0
           },
           {
            "bin_start": 0.4,
            "bin_end": 0.5,
            "count": 0
           },
           {
            "bin_start": 0.5,
            "bin_end": 0.6000000000000001,
            "count": 0
           },
           {
            "bin_start": 0.6000000000000001,
            "bin_end": 0.7000000000000001,
            "count": 0
           },
           {
            "bin_start": 0.7000000000000001,
            "bin_end": 0.8,
            "count": 0
           },
           {
            "bin_start": 0.8,
            "bin_end": 0.9,
            "count": 0
           },
           {
            "bin_start": 0.9,
            "bin_end": 1,
            "count": 2
           }
          ]
         }
        },
        {
         "name": "M_CamryLE",
         "dtype": "uint8",
         "stats": {
          "unique_count": 2,
          "nan_count": 0,
          "min": "0",
          "max": "1",
          "histogram": [
           {
            "bin_start": 0,
            "bin_end": 0.1,
            "count": 4
           },
           {
            "bin_start": 0.1,
            "bin_end": 0.2,
            "count": 0
           },
           {
            "bin_start": 0.2,
            "bin_end": 0.30000000000000004,
            "count": 0
           },
           {
            "bin_start": 0.30000000000000004,
            "bin_end": 0.4,
            "count": 0
           },
           {
            "bin_start": 0.4,
            "bin_end": 0.5,
            "count": 0
           },
           {
            "bin_start": 0.5,
            "bin_end": 0.6000000000000001,
            "count": 0
           },
           {
            "bin_start": 0.6000000000000001,
            "bin_end": 0.7000000000000001,
            "count": 0
           },
           {
            "bin_start": 0.7000000000000001,
            "bin_end": 0.8,
            "count": 0
           },
           {
            "bin_start": 0.8,
            "bin_end": 0.9,
            "count": 0
           },
           {
            "bin_start": 0.9,
            "bin_end": 1,
            "count": 1
           }
          ]
         }
        },
        {
         "name": "M_CamrySE",
         "dtype": "uint8",
         "stats": {
          "unique_count": 2,
          "nan_count": 0,
          "min": "0",
          "max": "1",
          "histogram": [
           {
            "bin_start": 0,
            "bin_end": 0.1,
            "count": 4
           },
           {
            "bin_start": 0.1,
            "bin_end": 0.2,
            "count": 0
           },
           {
            "bin_start": 0.2,
            "bin_end": 0.30000000000000004,
            "count": 0
           },
           {
            "bin_start": 0.30000000000000004,
            "bin_end": 0.4,
            "count": 0
           },
           {
            "bin_start": 0.4,
            "bin_end": 0.5,
            "count": 0
           },
           {
            "bin_start": 0.5,
            "bin_end": 0.6000000000000001,
            "count": 0
           },
           {
            "bin_start": 0.6000000000000001,
            "bin_end": 0.7000000000000001,
            "count": 0
           },
           {
            "bin_start": 0.7000000000000001,
            "bin_end": 0.8,
            "count": 0
           },
           {
            "bin_start": 0.8,
            "bin_end": 0.9,
            "count": 0
           },
           {
            "bin_start": 0.9,
            "bin_end": 1,
            "count": 1
           }
          ]
         }
        },
        {
         "name": "M_CamryXLE",
         "dtype": "uint8",
         "stats": {
          "unique_count": 1,
          "nan_count": 0,
          "min": "0",
          "max": "0",
          "histogram": [
           {
            "bin_start": -0.5,
            "bin_end": -0.4,
            "count": 0
           },
           {
            "bin_start": -0.4,
            "bin_end": -0.3,
            "count": 0
           },
           {
            "bin_start": -0.3,
            "bin_end": -0.19999999999999996,
            "count": 0
           },
           {
            "bin_start": -0.19999999999999996,
            "bin_end": -0.09999999999999998,
            "count": 0
           },
           {
            "bin_start": -0.09999999999999998,
            "bin_end": 0,
            "count": 0
           },
           {
            "bin_start": 0,
            "bin_end": 0.10000000000000009,
            "count": 5
           },
           {
            "bin_start": 0.10000000000000009,
            "bin_end": 0.20000000000000007,
            "count": 0
           },
           {
            "bin_start": 0.20000000000000007,
            "bin_end": 0.30000000000000004,
            "count": 0
           },
           {
            "bin_start": 0.30000000000000004,
            "bin_end": 0.4,
            "count": 0
           },
           {
            "bin_start": 0.4,
            "bin_end": 0.5,
            "count": 0
           }
          ]
         }
        },
        {
         "name": "HighPrice",
         "dtype": "int64",
         "stats": {
          "unique_count": 2,
          "nan_count": 0,
          "min": "0",
          "max": "1",
          "histogram": [
           {
            "bin_start": 0,
            "bin_end": 0.1,
            "count": 3
           },
           {
            "bin_start": 0.1,
            "bin_end": 0.2,
            "count": 0
           },
           {
            "bin_start": 0.2,
            "bin_end": 0.30000000000000004,
            "count": 0
           },
           {
            "bin_start": 0.30000000000000004,
            "bin_end": 0.4,
            "count": 0
           },
           {
            "bin_start": 0.4,
            "bin_end": 0.5,
            "count": 0
           },
           {
            "bin_start": 0.5,
            "bin_end": 0.6000000000000001,
            "count": 0
           },
           {
            "bin_start": 0.6000000000000001,
            "bin_end": 0.7000000000000001,
            "count": 0
           },
           {
            "bin_start": 0.7000000000000001,
            "bin_end": 0.8,
            "count": 0
           },
           {
            "bin_start": 0.8,
            "bin_end": 0.9,
            "count": 0
           },
           {
            "bin_start": 0.9,
            "bin_end": 1,
            "count": 2
           }
          ]
         }
        },
        {
         "name": "_deepnote_index_column",
         "dtype": "int64"
        }
       ],
       "rows": [
        {
         "Year": 2014,
         "Mileage": 6480,
         "M_Camry": 0,
         "M_Camry4dr": 0,
         "M_CamryBase": 0,
         "M_CamryL": 1,
         "M_CamryLE": 0,
         "M_CamrySE": 0,
         "M_CamryXLE": 0,
         "HighPrice": 1,
         "_deepnote_index_column": 7
        },
        {
         "Year": 2014,
         "Mileage": 39972,
         "M_Camry": 0,
         "M_Camry4dr": 0,
         "M_CamryBase": 0,
         "M_CamryL": 0,
         "M_CamryLE": 1,
         "M_CamrySE": 0,
         "M_CamryXLE": 0,
         "HighPrice": 0,
         "_deepnote_index_column": 11
        },
        {
         "Year": 2016,
         "Mileage": 18989,
         "M_Camry": 0,
         "M_Camry4dr": 0,
         "M_CamryBase": 0,
         "M_CamryL": 0,
         "M_CamryLE": 0,
         "M_CamrySE": 1,
         "M_CamryXLE": 0,
         "HighPrice": 1,
         "_deepnote_index_column": 167
        },
        {
         "Year": 2014,
         "Mileage": 51330,
         "M_Camry": 0,
         "M_Camry4dr": 0,
         "M_CamryBase": 0,
         "M_CamryL": 1,
         "M_CamryLE": 0,
         "M_CamrySE": 0,
         "M_CamryXLE": 0,
         "HighPrice": 0,
         "_deepnote_index_column": 225
        },
        {
         "Year": 2007,
         "Mileage": 116065,
         "M_Camry": 0,
         "M_Camry4dr": 1,
         "M_CamryBase": 0,
         "M_CamryL": 0,
         "M_CamryLE": 0,
         "M_CamrySE": 0,
         "M_CamryXLE": 0,
         "HighPrice": 0,
         "_deepnote_index_column": 270
        }
       ]
      },
      "text/plain": "     Year  Mileage  M_Camry  M_Camry4dr  M_CamryBase  M_CamryL  M_CamryLE  \\\n7    2014     6480        0           0            0         1          0   \n11   2014    39972        0           0            0         0          1   \n167  2016    18989        0           0            0         0          0   \n225  2014    51330        0           0            0         1          0   \n270  2007   116065        0           1            0         0          0   \n\n     M_CamrySE  M_CamryXLE  HighPrice  \n7            0           0          1  \n11           0           0          0  \n167          1           0          1  \n225          0           0          0  \n270          0           0          0  ",
      "text/html": "<div>\n<style scoped>\n    .dataframe tbody tr th:only-of-type {\n        vertical-align: middle;\n    }\n\n    .dataframe tbody tr th {\n        vertical-align: top;\n    }\n\n    .dataframe thead th {\n        text-align: right;\n    }\n</style>\n<table border=\"1\" class=\"dataframe\">\n  <thead>\n    <tr style=\"text-align: right;\">\n      <th></th>\n      <th>Year</th>\n      <th>Mileage</th>\n      <th>M_Camry</th>\n      <th>M_Camry4dr</th>\n      <th>M_CamryBase</th>\n      <th>M_CamryL</th>\n      <th>M_CamryLE</th>\n      <th>M_CamrySE</th>\n      <th>M_CamryXLE</th>\n      <th>HighPrice</th>\n    </tr>\n  </thead>\n  <tbody>\n    <tr>\n      <th>7</th>\n      <td>2014</td>\n      <td>6480</td>\n      <td>0</td>\n      <td>0</td>\n      <td>0</td>\n      <td>1</td>\n      <td>0</td>\n      <td>0</td>\n      <td>0</td>\n      <td>1</td>\n    </tr>\n    <tr>\n      <th>11</th>\n      <td>2014</td>\n      <td>39972</td>\n      <td>0</td>\n      <td>0</td>\n      <td>0</td>\n      <td>0</td>\n      <td>1</td>\n      <td>0</td>\n      <td>0</td>\n      <td>0</td>\n    </tr>\n    <tr>\n      <th>167</th>\n      <td>2016</td>\n      <td>18989</td>\n      <td>0</td>\n      <td>0</td>\n      <td>0</td>\n      <td>0</td>\n      <td>0</td>\n      <td>1</td>\n      <td>0</td>\n      <td>1</td>\n    </tr>\n    <tr>\n      <th>225</th>\n      <td>2014</td>\n      <td>51330</td>\n      <td>0</td>\n      <td>0</td>\n      <td>0</td>\n      <td>1</td>\n      <td>0</td>\n      <td>0</td>\n      <td>0</td>\n      <td>0</td>\n    </tr>\n    <tr>\n      <th>270</th>\n      <td>2007</td>\n      <td>116065</td>\n      <td>0</td>\n      <td>1</td>\n      <td>0</td>\n      <td>0</td>\n      <td>0</td>\n      <td>0</td>\n      <td>0</td>\n      <td>0</td>\n    </tr>\n  </tbody>\n</table>\n</div>"
     },
     "metadata": {}
    }
   ]
  },
  {
   "cell_type": "code",
   "metadata": {
    "cell_id": "00005-afd2784c-e2a7-450c-8180-478dd132a518",
    "deepnote_to_be_reexecuted": false,
    "source_hash": "cb7f74f",
    "execution_start": 1649646987465,
    "execution_millis": 10,
    "deepnote_cell_type": "code",
    "deepnote_cell_height": 117
   },
   "source": "# Separación de variables predictoras (X) y variable de interés (y)\ny = data['HighPrice']\nX = data.drop(['HighPrice'], axis=1)",
   "execution_count": null,
   "outputs": []
  },
  {
   "cell_type": "code",
   "metadata": {
    "cell_id": "00006-6a3f350c-2a86-43bf-b716-0d040c862eb9",
    "deepnote_to_be_reexecuted": false,
    "source_hash": "3660cfc5",
    "execution_start": 1649646987482,
    "execution_millis": 1563,
    "deepnote_cell_type": "code",
    "deepnote_cell_height": 117
   },
   "source": "# Separación de datos en set de entrenamiento y test\nfrom sklearn.model_selection import train_test_split\nX_train, X_test, y_train, y_test = train_test_split(X, y, test_size=0.33, random_state=1)",
   "execution_count": null,
   "outputs": []
  },
  {
   "cell_type": "markdown",
   "source": "### Punto 1 - Árbol de decisión manual\n\nEn la celda 1 creen un árbol de decisión **manualmente**  que considere los set de entrenamiento y test definidos anteriormente y presenten el acurracy del modelo en el set de test.",
   "metadata": {
    "cell_id": "00007-eeac18d3-d70e-4ac4-ada2-2fb21e7333ee",
    "deepnote_cell_type": "markdown",
    "deepnote_cell_height": 122.796875
   }
  },
  {
   "cell_type": "code",
   "metadata": {
    "cell_id": "00008-de0348b5-f9d6-44d9-8e7c-dd5d2617be03",
    "deepnote_to_be_reexecuted": false,
    "source_hash": "a15f0e07",
    "execution_start": 1649646989131,
    "execution_millis": 2,
    "deepnote_cell_type": "code",
    "deepnote_cell_height": 2187
   },
   "source": "# Celda 1\n# Definición de parámetros y criterios de parada\nmax_depth = None\nnum_pct = 10\nmax_features = None\nmin_gain=0.001\n\n# Definición de la función que calcula el gini index\ndef gini(y):\n    if y.shape[0] == 0:\n        return 0\n    else:\n        return 1 - (y.mean()**2 + (1 - y.mean())**2)\n\n# Definición de la función gini_imputiry para calular la ganancia de una variable predictora j dado el punto de corte k\ndef gini_impurity(X_col, y, split):\n    \n    filter_l = X_col < split\n    y_l = y.loc[filter_l]\n    y_r = y.loc[~filter_l]\n    \n    n_l = y_l.shape[0]\n    n_r = y_r.shape[0]\n    \n    gini_y = gini(y)\n    gini_l = gini(y_l)\n    gini_r = gini(y_r)\n    \n    gini_impurity_ = gini_y - (n_l / (n_l + n_r) * gini_l + n_r / (n_l + n_r) * gini_r)\n    \n    return gini_impurity_\n\n# Definición de la función best_split para calcular cuál es la mejor variable y punto de cortepara hacer la bifurcación del árbol\ndef best_split(X, y, num_pct=10):\n    \n    features = range(X.shape[1])\n    \n    best_split = [0, 0, 0]  # j, split, gain\n    \n    # Para todas las varibles \n    for j in features:\n        \n        splits = np.percentile(X.iloc[:, j], np.arange(0, 100, 100.0 / (num_pct+1)).tolist())\n        splits = np.unique(splits)[1:]\n        \n        # Para cada partición\n        for split in splits:\n            gain = gini_impurity(X.iloc[:, j], y, split)\n                        \n            if gain > best_split[2]:\n                best_split = [j, split, gain]\n    \n    return best_split\n\n# Definición de la función tree_grow para hacer un crecimiento recursivo del árbol\ndef tree_grow(X, y, level=0, min_gain=0.001, max_depth=None, num_pct=10):\n    \n    # Si solo es una observación\n    if X.shape[0] == 1:\n        tree = dict(y_pred=y.iloc[:1].values[0], y_prob=0.5, level=level, split=-1, n_samples=1, gain=0)\n        return tree\n    \n    # Calcular la mejor división\n    j, split, gain = best_split(X, y, num_pct)\n    \n    # Guardar el árbol y estimar la predicción\n    y_pred = int(y.mean() >= 0.5) \n    y_prob = (y.sum() + 1.0) / (y.shape[0] + 2.0)  # Corrección Laplace \n    \n    tree = dict(y_pred=y_pred, y_prob=y_prob, level=level, split=-1, n_samples=X.shape[0], gain=gain)\n    # Revisar el criterio de parada \n    if gain < min_gain:\n        return tree\n    if max_depth is not None:\n        if level >= max_depth:\n            return tree   \n    \n    # Continuar creando la partición\n    filter_l = X.iloc[:, j] < split\n    X_l, y_l = X.loc[filter_l], y.loc[filter_l]\n    X_r, y_r = X.loc[~filter_l], y.loc[~filter_l]\n    tree['split'] = [j, split]\n\n    # Siguiente iteración para cada partición\n    \n    tree['sl'] = tree_grow(X_l, y_l, level + 1, min_gain=min_gain, max_depth=max_depth, num_pct=num_pct)\n    tree['sr'] = tree_grow(X_r, y_r, level + 1, min_gain=min_gain, max_depth=max_depth, num_pct=num_pct)\n    \n    return tree\n\n# Definición de la función tree_predict para hacer predicciones según las variables 'X' y el árbol 'tree'\ndef tree_predict(X, tree, proba=False):\n    \n    predicted = np.ones(X.shape[0])\n\n    # Revisar si es el nodo final\n    if tree['split'] == -1:\n        if not proba:\n            predicted = predicted * tree['y_pred']\n        else:\n            predicted = predicted * tree['y_prob']\n            \n    else:\n        \n        j, split = tree['split']\n        filter_l = (X.iloc[:, j] < split)\n        X_l = X.loc[filter_l]\n        X_r = X.loc[~filter_l]\n\n        if X_l.shape[0] == 0:  # Si el nodo izquierdo está vacio solo continua con el derecho \n            predicted[~filter_l] = tree_predict(X_r, tree['sr'], proba)\n        elif X_r.shape[0] == 0:  #  Si el nodo derecho está vacio solo continua con el izquierdo\n            predicted[filter_l] = tree_predict(X_l, tree['sl'], proba)\n        else:\n            predicted[filter_l] = tree_predict(X_l, tree['sl'], proba)\n            predicted[~filter_l] = tree_predict(X_r, tree['sr'], proba)\n\n    return predicted",
   "execution_count": null,
   "outputs": []
  },
  {
   "cell_type": "code",
   "metadata": {
    "cell_id": "9bd2d10c6be7405ea1ccc0eec47e7f87",
    "tags": [],
    "deepnote_to_be_reexecuted": false,
    "source_hash": "2ee930ad",
    "execution_start": 1649646989181,
    "execution_millis": 55097,
    "deepnote_cell_type": "code",
    "deepnote_cell_height": 99
   },
   "source": "# Entrenamiento de arbol con datos\nman_tree = tree_grow(X_train, y_train, level=0, min_gain=0.001, max_depth=None, num_pct=10)",
   "execution_count": null,
   "outputs": []
  },
  {
   "cell_type": "code",
   "metadata": {
    "cell_id": "eafecf0904e340e3883df7d864c97887",
    "tags": [],
    "deepnote_to_be_reexecuted": false,
    "source_hash": "bffb84ca",
    "execution_start": 1649647044407,
    "execution_millis": 1859,
    "deepnote_cell_type": "code",
    "deepnote_cell_height": 81
   },
   "source": "y_pred = tree_predict(X_test, man_tree)",
   "execution_count": null,
   "outputs": []
  },
  {
   "cell_type": "code",
   "metadata": {
    "cell_id": "daa051c172ba4f47a28c711078b0aad0",
    "tags": [],
    "deepnote_to_be_reexecuted": false,
    "source_hash": "e2639ecf",
    "execution_start": 1649647046276,
    "execution_millis": 1,
    "deepnote_cell_type": "code",
    "deepnote_cell_height": 154.1875,
    "deepnote_output_heights": [
     21.1875
    ]
   },
   "source": "from sklearn.metrics import accuracy_score\nman_tre_acc = accuracy_score(y_test, y_pred)\nman_tre_acc",
   "execution_count": null,
   "outputs": [
    {
     "output_type": "execute_result",
     "execution_count": 8,
     "data": {
      "text/plain": "0.8412240184757506"
     },
     "metadata": {}
    }
   ]
  },
  {
   "cell_type": "markdown",
   "source": "Realizando un arbol manual sin limitar la profundidad maxima y una ganancia minima de 0.001 con 10 particiones por variables, se consigue un accuracy de 0.8412",
   "metadata": {
    "cell_id": "8e58ae2f2bfd48ab96978c7b2c7ddbfc",
    "tags": [],
    "deepnote_cell_type": "markdown",
    "deepnote_cell_height": 74.796875
   }
  },
  {
   "cell_type": "markdown",
   "source": "### Punto 2 - Bagging manual\n\nEn la celda 2 creen un modelo bagging **manualmente** con 10 árboles de clasificación y comenten sobre el desempeño del modelo.",
   "metadata": {
    "cell_id": "00009-d3436663-b5c2-4eeb-b32d-e3d010b77d88",
    "deepnote_cell_type": "markdown",
    "deepnote_cell_height": 100.390625
   }
  },
  {
   "cell_type": "code",
   "metadata": {
    "cell_id": "00010-3185cbf5-66d8-4a61-8a8f-b569d1a90991",
    "deepnote_to_be_reexecuted": false,
    "source_hash": "6fd28ebd",
    "execution_start": 1649647046318,
    "execution_millis": 4374763,
    "deepnote_cell_type": "code",
    "deepnote_cell_height": 171
   },
   "source": "# Celda 2\n# Creación de 10 muestras de bootstrap \nnp.random.seed(1)\nn_samples = X_train.shape[0]\nn_B = 10\nsamples = [np.random.choice(a=n_samples, size=n_samples, replace=True) for _ in range(1, n_B +1 )]",
   "execution_count": null,
   "outputs": []
  },
  {
   "cell_type": "code",
   "metadata": {
    "cell_id": "7388276f92904459887cb3c74c0c57ac",
    "tags": [],
    "deepnote_to_be_reexecuted": false,
    "source_hash": "41b2b16d",
    "execution_start": 1649647046336,
    "execution_millis": 1098,
    "deepnote_table_state": {
     "pageSize": 10,
     "pageIndex": 5,
     "filters": [],
     "sortBy": []
    },
    "deepnote_table_loading": false,
    "deepnote_cell_type": "code",
    "deepnote_cell_height": 902.390625
   },
   "source": "# Construcción un árbol de decisión para cada muestra boostrap\nfrom sklearn.tree import DecisionTreeClassifier\n\n# Definición del modelo usando DecisionTreeClassifier de sklearn\ntreeclas = DecisionTreeClassifier(max_depth=None, random_state=1)\n\n# DataFrame para guardar las predicciones de cada árbol\npred_y = pd.DataFrame(index=X_test.index, columns=[list(range(n_B))])\n\n# Entrenamiento de un árbol sobre cada muestra boostrap y predicción sobre los datos de test\nfor i, sample in enumerate(samples):\n    train_X = X_train.iloc[sample, 0:]\n    train_y = y_train.iloc[sample]\n    treeclas.fit(train_X, train_y)\n    pred_y.iloc[:,i] = treeclas.predict(X_test)\n    \npred_y",
   "execution_count": null,
   "outputs": [
    {
     "output_type": "execute_result",
     "execution_count": 10,
     "data": {
      "application/vnd.deepnote.dataframe.v3+json": {
       "column_count": 10,
       "row_count": 3464,
       "columns": [
        {
         "name": "",
         "dtype": "int64",
         "stats": {
          "unique_count": 2,
          "nan_count": 0,
          "min": "0",
          "max": "1",
          "histogram": [
           {
            "bin_start": 0,
            "bin_end": 0.1,
            "count": 1440
           },
           {
            "bin_start": 0.1,
            "bin_end": 0.2,
            "count": 0
           },
           {
            "bin_start": 0.2,
            "bin_end": 0.30000000000000004,
            "count": 0
           },
           {
            "bin_start": 0.30000000000000004,
            "bin_end": 0.4,
            "count": 0
           },
           {
            "bin_start": 0.4,
            "bin_end": 0.5,
            "count": 0
           },
           {
            "bin_start": 0.5,
            "bin_end": 0.6000000000000001,
            "count": 0
           },
           {
            "bin_start": 0.6000000000000001,
            "bin_end": 0.7000000000000001,
            "count": 0
           },
           {
            "bin_start": 0.7000000000000001,
            "bin_end": 0.8,
            "count": 0
           },
           {
            "bin_start": 0.8,
            "bin_end": 0.9,
            "count": 0
           },
           {
            "bin_start": 0.9,
            "bin_end": 1,
            "count": 2024
           }
          ]
         }
        },
        {
         "name": "1",
         "dtype": "int64",
         "stats": {
          "unique_count": 2,
          "nan_count": 0,
          "min": "0",
          "max": "1",
          "histogram": [
           {
            "bin_start": 0,
            "bin_end": 0.1,
            "count": 1436
           },
           {
            "bin_start": 0.1,
            "bin_end": 0.2,
            "count": 0
           },
           {
            "bin_start": 0.2,
            "bin_end": 0.30000000000000004,
            "count": 0
           },
           {
            "bin_start": 0.30000000000000004,
            "bin_end": 0.4,
            "count": 0
           },
           {
            "bin_start": 0.4,
            "bin_end": 0.5,
            "count": 0
           },
           {
            "bin_start": 0.5,
            "bin_end": 0.6000000000000001,
            "count": 0
           },
           {
            "bin_start": 0.6000000000000001,
            "bin_end": 0.7000000000000001,
            "count": 0
           },
           {
            "bin_start": 0.7000000000000001,
            "bin_end": 0.8,
            "count": 0
           },
           {
            "bin_start": 0.8,
            "bin_end": 0.9,
            "count": 0
           },
           {
            "bin_start": 0.9,
            "bin_end": 1,
            "count": 2028
           }
          ]
         }
        },
        {
         "name": "2",
         "dtype": "int64",
         "stats": {
          "unique_count": 2,
          "nan_count": 0,
          "min": "0",
          "max": "1",
          "histogram": [
           {
            "bin_start": 0,
            "bin_end": 0.1,
            "count": 1443
           },
           {
            "bin_start": 0.1,
            "bin_end": 0.2,
            "count": 0
           },
           {
            "bin_start": 0.2,
            "bin_end": 0.30000000000000004,
            "count": 0
           },
           {
            "bin_start": 0.30000000000000004,
            "bin_end": 0.4,
            "count": 0
           },
           {
            "bin_start": 0.4,
            "bin_end": 0.5,
            "count": 0
           },
           {
            "bin_start": 0.5,
            "bin_end": 0.6000000000000001,
            "count": 0
           },
           {
            "bin_start": 0.6000000000000001,
            "bin_end": 0.7000000000000001,
            "count": 0
           },
           {
            "bin_start": 0.7000000000000001,
            "bin_end": 0.8,
            "count": 0
           },
           {
            "bin_start": 0.8,
            "bin_end": 0.9,
            "count": 0
           },
           {
            "bin_start": 0.9,
            "bin_end": 1,
            "count": 2021
           }
          ]
         }
        },
        {
         "name": "3",
         "dtype": "int64",
         "stats": {
          "unique_count": 2,
          "nan_count": 0,
          "min": "0",
          "max": "1",
          "histogram": [
           {
            "bin_start": 0,
            "bin_end": 0.1,
            "count": 1454
           },
           {
            "bin_start": 0.1,
            "bin_end": 0.2,
            "count": 0
           },
           {
            "bin_start": 0.2,
            "bin_end": 0.30000000000000004,
            "count": 0
           },
           {
            "bin_start": 0.30000000000000004,
            "bin_end": 0.4,
            "count": 0
           },
           {
            "bin_start": 0.4,
            "bin_end": 0.5,
            "count": 0
           },
           {
            "bin_start": 0.5,
            "bin_end": 0.6000000000000001,
            "count": 0
           },
           {
            "bin_start": 0.6000000000000001,
            "bin_end": 0.7000000000000001,
            "count": 0
           },
           {
            "bin_start": 0.7000000000000001,
            "bin_end": 0.8,
            "count": 0
           },
           {
            "bin_start": 0.8,
            "bin_end": 0.9,
            "count": 0
           },
           {
            "bin_start": 0.9,
            "bin_end": 1,
            "count": 2010
           }
          ]
         }
        },
        {
         "name": "4",
         "dtype": "int64",
         "stats": {
          "unique_count": 2,
          "nan_count": 0,
          "min": "0",
          "max": "1",
          "histogram": [
           {
            "bin_start": 0,
            "bin_end": 0.1,
            "count": 1412
           },
           {
            "bin_start": 0.1,
            "bin_end": 0.2,
            "count": 0
           },
           {
            "bin_start": 0.2,
            "bin_end": 0.30000000000000004,
            "count": 0
           },
           {
            "bin_start": 0.30000000000000004,
            "bin_end": 0.4,
            "count": 0
           },
           {
            "bin_start": 0.4,
            "bin_end": 0.5,
            "count": 0
           },
           {
            "bin_start": 0.5,
            "bin_end": 0.6000000000000001,
            "count": 0
           },
           {
            "bin_start": 0.6000000000000001,
            "bin_end": 0.7000000000000001,
            "count": 0
           },
           {
            "bin_start": 0.7000000000000001,
            "bin_end": 0.8,
            "count": 0
           },
           {
            "bin_start": 0.8,
            "bin_end": 0.9,
            "count": 0
           },
           {
            "bin_start": 0.9,
            "bin_end": 1,
            "count": 2052
           }
          ]
         }
        },
        {
         "name": "5",
         "dtype": "int64",
         "stats": {
          "unique_count": 2,
          "nan_count": 0,
          "min": "0",
          "max": "1",
          "histogram": [
           {
            "bin_start": 0,
            "bin_end": 0.1,
            "count": 1425
           },
           {
            "bin_start": 0.1,
            "bin_end": 0.2,
            "count": 0
           },
           {
            "bin_start": 0.2,
            "bin_end": 0.30000000000000004,
            "count": 0
           },
           {
            "bin_start": 0.30000000000000004,
            "bin_end": 0.4,
            "count": 0
           },
           {
            "bin_start": 0.4,
            "bin_end": 0.5,
            "count": 0
           },
           {
            "bin_start": 0.5,
            "bin_end": 0.6000000000000001,
            "count": 0
           },
           {
            "bin_start": 0.6000000000000001,
            "bin_end": 0.7000000000000001,
            "count": 0
           },
           {
            "bin_start": 0.7000000000000001,
            "bin_end": 0.8,
            "count": 0
           },
           {
            "bin_start": 0.8,
            "bin_end": 0.9,
            "count": 0
           },
           {
            "bin_start": 0.9,
            "bin_end": 1,
            "count": 2039
           }
          ]
         }
        },
        {
         "name": "6",
         "dtype": "int64",
         "stats": {
          "unique_count": 2,
          "nan_count": 0,
          "min": "0",
          "max": "1",
          "histogram": [
           {
            "bin_start": 0,
            "bin_end": 0.1,
            "count": 1461
           },
           {
            "bin_start": 0.1,
            "bin_end": 0.2,
            "count": 0
           },
           {
            "bin_start": 0.2,
            "bin_end": 0.30000000000000004,
            "count": 0
           },
           {
            "bin_start": 0.30000000000000004,
            "bin_end": 0.4,
            "count": 0
           },
           {
            "bin_start": 0.4,
            "bin_end": 0.5,
            "count": 0
           },
           {
            "bin_start": 0.5,
            "bin_end": 0.6000000000000001,
            "count": 0
           },
           {
            "bin_start": 0.6000000000000001,
            "bin_end": 0.7000000000000001,
            "count": 0
           },
           {
            "bin_start": 0.7000000000000001,
            "bin_end": 0.8,
            "count": 0
           },
           {
            "bin_start": 0.8,
            "bin_end": 0.9,
            "count": 0
           },
           {
            "bin_start": 0.9,
            "bin_end": 1,
            "count": 2003
           }
          ]
         }
        },
        {
         "name": "7",
         "dtype": "int64",
         "stats": {
          "unique_count": 2,
          "nan_count": 0,
          "min": "0",
          "max": "1",
          "histogram": [
           {
            "bin_start": 0,
            "bin_end": 0.1,
            "count": 1455
           },
           {
            "bin_start": 0.1,
            "bin_end": 0.2,
            "count": 0
           },
           {
            "bin_start": 0.2,
            "bin_end": 0.30000000000000004,
            "count": 0
           },
           {
            "bin_start": 0.30000000000000004,
            "bin_end": 0.4,
            "count": 0
           },
           {
            "bin_start": 0.4,
            "bin_end": 0.5,
            "count": 0
           },
           {
            "bin_start": 0.5,
            "bin_end": 0.6000000000000001,
            "count": 0
           },
           {
            "bin_start": 0.6000000000000001,
            "bin_end": 0.7000000000000001,
            "count": 0
           },
           {
            "bin_start": 0.7000000000000001,
            "bin_end": 0.8,
            "count": 0
           },
           {
            "bin_start": 0.8,
            "bin_end": 0.9,
            "count": 0
           },
           {
            "bin_start": 0.9,
            "bin_end": 1,
            "count": 2009
           }
          ]
         }
        },
        {
         "name": "8",
         "dtype": "int64",
         "stats": {
          "unique_count": 2,
          "nan_count": 0,
          "min": "0",
          "max": "1",
          "histogram": [
           {
            "bin_start": 0,
            "bin_end": 0.1,
            "count": 1440
           },
           {
            "bin_start": 0.1,
            "bin_end": 0.2,
            "count": 0
           },
           {
            "bin_start": 0.2,
            "bin_end": 0.30000000000000004,
            "count": 0
           },
           {
            "bin_start": 0.30000000000000004,
            "bin_end": 0.4,
            "count": 0
           },
           {
            "bin_start": 0.4,
            "bin_end": 0.5,
            "count": 0
           },
           {
            "bin_start": 0.5,
            "bin_end": 0.6000000000000001,
            "count": 0
           },
           {
            "bin_start": 0.6000000000000001,
            "bin_end": 0.7000000000000001,
            "count": 0
           },
           {
            "bin_start": 0.7000000000000001,
            "bin_end": 0.8,
            "count": 0
           },
           {
            "bin_start": 0.8,
            "bin_end": 0.9,
            "count": 0
           },
           {
            "bin_start": 0.9,
            "bin_end": 1,
            "count": 2024
           }
          ]
         }
        },
        {
         "name": "9",
         "dtype": "int64",
         "stats": {
          "unique_count": 2,
          "nan_count": 0,
          "min": "0",
          "max": "1",
          "histogram": [
           {
            "bin_start": 0,
            "bin_end": 0.1,
            "count": 1478
           },
           {
            "bin_start": 0.1,
            "bin_end": 0.2,
            "count": 0
           },
           {
            "bin_start": 0.2,
            "bin_end": 0.30000000000000004,
            "count": 0
           },
           {
            "bin_start": 0.30000000000000004,
            "bin_end": 0.4,
            "count": 0
           },
           {
            "bin_start": 0.4,
            "bin_end": 0.5,
            "count": 0
           },
           {
            "bin_start": 0.5,
            "bin_end": 0.6000000000000001,
            "count": 0
           },
           {
            "bin_start": 0.6000000000000001,
            "bin_end": 0.7000000000000001,
            "count": 0
           },
           {
            "bin_start": 0.7000000000000001,
            "bin_end": 0.8,
            "count": 0
           },
           {
            "bin_start": 0.8,
            "bin_end": 0.9,
            "count": 0
           },
           {
            "bin_start": 0.9,
            "bin_end": 1,
            "count": 1986
           }
          ]
         }
        },
        {
         "name": "_deepnote_index_column",
         "dtype": "int64"
        }
       ],
       "rows": [
        {
         "1": 1,
         "2": 1,
         "3": 1,
         "4": 1,
         "5": 1,
         "6": 1,
         "7": 1,
         "8": 1,
         "9": 1,
         "": 1,
         "_deepnote_index_column": 31106
        },
        {
         "1": 0,
         "2": 0,
         "3": 0,
         "4": 0,
         "5": 0,
         "6": 0,
         "7": 0,
         "8": 0,
         "9": 0,
         "": 0,
         "_deepnote_index_column": 103190
        },
        {
         "1": 1,
         "2": 1,
         "3": 1,
         "4": 1,
         "5": 1,
         "6": 1,
         "7": 1,
         "8": 1,
         "9": 1,
         "": 1,
         "_deepnote_index_column": 131818
        },
        {
         "1": 0,
         "2": 1,
         "3": 0,
         "4": 1,
         "5": 1,
         "6": 1,
         "7": 0,
         "8": 0,
         "9": 1,
         "": 0,
         "_deepnote_index_column": 153693
        },
        {
         "1": 0,
         "2": 1,
         "3": 1,
         "4": 1,
         "5": 1,
         "6": 0,
         "7": 1,
         "8": 1,
         "9": 1,
         "": 1,
         "_deepnote_index_column": 67705
        },
        {
         "1": 1,
         "2": 1,
         "3": 1,
         "4": 1,
         "5": 1,
         "6": 1,
         "7": 1,
         "8": 1,
         "9": 1,
         "": 1,
         "_deepnote_index_column": 241053
        },
        {
         "1": 1,
         "2": 1,
         "3": 1,
         "4": 1,
         "5": 1,
         "6": 1,
         "7": 1,
         "8": 1,
         "9": 1,
         "": 1,
         "_deepnote_index_column": 330113
        },
        {
         "1": 1,
         "2": 1,
         "3": 1,
         "4": 1,
         "5": 1,
         "6": 1,
         "7": 1,
         "8": 1,
         "9": 1,
         "": 1,
         "_deepnote_index_column": 149774
        },
        {
         "1": 0,
         "2": 0,
         "3": 0,
         "4": 0,
         "5": 0,
         "6": 0,
         "7": 0,
         "8": 0,
         "9": 0,
         "": 0,
         "_deepnote_index_column": 140890
        },
        {
         "1": 1,
         "2": 1,
         "3": 1,
         "4": 1,
         "5": 1,
         "6": 1,
         "7": 1,
         "8": 1,
         "9": 1,
         "": 1,
         "_deepnote_index_column": 165045
        }
       ]
      },
      "text/plain": "        0  1  2  3  4  5  6  7  8  9\n320351  1  1  1  1  1  1  1  1  1  1\n224969  1  1  1  1  1  0  1  1  1  1\n79143   0  0  0  0  0  0  0  0  0  0\n209210  1  1  1  1  1  1  1  1  1  1\n144843  1  1  1  1  1  1  1  1  1  1\n...    .. .. .. .. .. .. .. .. .. ..\n287657  1  1  1  1  1  1  1  1  1  1\n213830  0  0  0  0  1  1  0  0  0  0\n118888  0  0  0  0  0  0  0  0  0  0\n397426  0  0  0  0  0  0  0  0  0  0\n205572  0  0  0  0  0  0  0  0  0  0\n\n[3464 rows x 10 columns]",
      "text/html": "<div>\n<style scoped>\n    .dataframe tbody tr th:only-of-type {\n        vertical-align: middle;\n    }\n\n    .dataframe tbody tr th {\n        vertical-align: top;\n    }\n\n    .dataframe thead tr th {\n        text-align: left;\n    }\n</style>\n<table border=\"1\" class=\"dataframe\">\n  <thead>\n    <tr>\n      <th></th>\n      <th>0</th>\n      <th>1</th>\n      <th>2</th>\n      <th>3</th>\n      <th>4</th>\n      <th>5</th>\n      <th>6</th>\n      <th>7</th>\n      <th>8</th>\n      <th>9</th>\n    </tr>\n  </thead>\n  <tbody>\n    <tr>\n      <th>320351</th>\n      <td>1</td>\n      <td>1</td>\n      <td>1</td>\n      <td>1</td>\n      <td>1</td>\n      <td>1</td>\n      <td>1</td>\n      <td>1</td>\n      <td>1</td>\n      <td>1</td>\n    </tr>\n    <tr>\n      <th>224969</th>\n      <td>1</td>\n      <td>1</td>\n      <td>1</td>\n      <td>1</td>\n      <td>1</td>\n      <td>0</td>\n      <td>1</td>\n      <td>1</td>\n      <td>1</td>\n      <td>1</td>\n    </tr>\n    <tr>\n      <th>79143</th>\n      <td>0</td>\n      <td>0</td>\n      <td>0</td>\n      <td>0</td>\n      <td>0</td>\n      <td>0</td>\n      <td>0</td>\n      <td>0</td>\n      <td>0</td>\n      <td>0</td>\n    </tr>\n    <tr>\n      <th>209210</th>\n      <td>1</td>\n      <td>1</td>\n      <td>1</td>\n      <td>1</td>\n      <td>1</td>\n      <td>1</td>\n      <td>1</td>\n      <td>1</td>\n      <td>1</td>\n      <td>1</td>\n    </tr>\n    <tr>\n      <th>144843</th>\n      <td>1</td>\n      <td>1</td>\n      <td>1</td>\n      <td>1</td>\n      <td>1</td>\n      <td>1</td>\n      <td>1</td>\n      <td>1</td>\n      <td>1</td>\n      <td>1</td>\n    </tr>\n    <tr>\n      <th>...</th>\n      <td>...</td>\n      <td>...</td>\n      <td>...</td>\n      <td>...</td>\n      <td>...</td>\n      <td>...</td>\n      <td>...</td>\n      <td>...</td>\n      <td>...</td>\n      <td>...</td>\n    </tr>\n    <tr>\n      <th>287657</th>\n      <td>1</td>\n      <td>1</td>\n      <td>1</td>\n      <td>1</td>\n      <td>1</td>\n      <td>1</td>\n      <td>1</td>\n      <td>1</td>\n      <td>1</td>\n      <td>1</td>\n    </tr>\n    <tr>\n      <th>213830</th>\n      <td>0</td>\n      <td>0</td>\n      <td>0</td>\n      <td>0</td>\n      <td>1</td>\n      <td>1</td>\n      <td>0</td>\n      <td>0</td>\n      <td>0</td>\n      <td>0</td>\n    </tr>\n    <tr>\n      <th>118888</th>\n      <td>0</td>\n      <td>0</td>\n      <td>0</td>\n      <td>0</td>\n      <td>0</td>\n      <td>0</td>\n      <td>0</td>\n      <td>0</td>\n      <td>0</td>\n      <td>0</td>\n    </tr>\n    <tr>\n      <th>397426</th>\n      <td>0</td>\n      <td>0</td>\n      <td>0</td>\n      <td>0</td>\n      <td>0</td>\n      <td>0</td>\n      <td>0</td>\n      <td>0</td>\n      <td>0</td>\n      <td>0</td>\n    </tr>\n    <tr>\n      <th>205572</th>\n      <td>0</td>\n      <td>0</td>\n      <td>0</td>\n      <td>0</td>\n      <td>0</td>\n      <td>0</td>\n      <td>0</td>\n      <td>0</td>\n      <td>0</td>\n      <td>0</td>\n    </tr>\n  </tbody>\n</table>\n<p>3464 rows × 10 columns</p>\n</div>"
     },
     "metadata": {}
    }
   ]
  },
  {
   "cell_type": "code",
   "metadata": {
    "cell_id": "e214334761bb49c7b08f9c4c864d6245",
    "tags": [],
    "deepnote_to_be_reexecuted": false,
    "source_hash": "90da8ff3",
    "execution_start": 1649647047038,
    "execution_millis": 400,
    "deepnote_cell_type": "code",
    "deepnote_cell_height": 328
   },
   "source": "# Calcular indices de accuracy por cada arbol entrenado\nfor i in range(n_B):\n    print(i, ' ' ,accuracy_score(y_test, pred_y[i]))",
   "execution_count": null,
   "outputs": [
    {
     "name": "stdout",
     "text": "0   0.8204387990762124\n1   0.8198614318706697\n2   0.8224595842956121\n3   0.8210161662817552\n4   0.836027713625866\n5   0.8340069284064665\n6   0.8224595842956121\n7   0.8340069284064665\n8   0.8279445727482679\n9   0.8285219399538106\n",
     "output_type": "stream"
    }
   ]
  },
  {
   "cell_type": "code",
   "metadata": {
    "cell_id": "0c1b2916543449449482c4e1ce161b98",
    "tags": [],
    "deepnote_to_be_reexecuted": false,
    "source_hash": "1676bba8",
    "execution_start": 1649647047080,
    "execution_millis": 3660,
    "deepnote_cell_type": "code",
    "deepnote_cell_height": 154.1875,
    "deepnote_output_heights": [
     21.1875
    ]
   },
   "source": "# Indice de accuracy para el total de arboles usando votación mayoritaria\nclas_tree_acc = accuracy_score(y_test, pred_y.mode(axis=1)[0])\nclas_tree_acc",
   "execution_count": null,
   "outputs": [
    {
     "output_type": "execute_result",
     "execution_count": 12,
     "data": {
      "text/plain": "0.8400692840646651"
     },
     "metadata": {}
    }
   ]
  },
  {
   "cell_type": "markdown",
   "source": "Entrenando 10 arboles y con todas las variables con el modelo bagging se encuentra que cada modelo tiene un desempeño inferior al obtenido con el arbol manual, y la diferencia entre cada arbol indica una relación con la muestra usada para realizar el entrenamiento. Sin embargo el ensamblaje de los 10 arboles presenta una mejora respecto al desempeño de cada arbol, pero que no supera el arbol realizado manualmente sin muestrego bagging",
   "metadata": {
    "cell_id": "b95ab1e592724b94b17b6d38fe06dd43",
    "tags": [],
    "deepnote_cell_type": "markdown",
    "deepnote_cell_height": 97.1875
   }
  },
  {
   "cell_type": "markdown",
   "source": "### Punto 3 - Bagging con librería\n\nEn la celda 3, con la librería sklearn, entrenen un modelo bagging con 10 árboles de clasificación y el parámetro `max_features` igual a `log(n_features)`. Presenten el acurracy del modelo en el set de test y comenten sus resultados.",
   "metadata": {
    "cell_id": "00011-a45e768f-2d0a-446a-8a60-30f8b6f6cb52",
    "deepnote_cell_type": "markdown",
    "deepnote_cell_height": 122.796875
   }
  },
  {
   "cell_type": "code",
   "metadata": {
    "cell_id": "00012-5425c113-4faa-4397-9183-cc0e3e619328",
    "deepnote_to_be_reexecuted": false,
    "source_hash": "1fe135f4",
    "execution_start": 1649647050791,
    "execution_millis": 71,
    "deepnote_cell_type": "code",
    "deepnote_cell_height": 153
   },
   "source": "# Celda 3\nmax_feat = np.log2(X_train.shape[1]).astype(int)\n\nfrom sklearn.ensemble import BaggingClassifier\nbagclas = BaggingClassifier(DecisionTreeClassifier(), n_estimators=10, max_features=3, random_state=1)",
   "execution_count": null,
   "outputs": []
  },
  {
   "cell_type": "code",
   "metadata": {
    "cell_id": "42cf0038514044c88c0cf39178c62635",
    "tags": [],
    "deepnote_to_be_reexecuted": false,
    "source_hash": "bce92a4b",
    "execution_start": 1649647050915,
    "execution_millis": 85,
    "deepnote_cell_type": "code",
    "deepnote_cell_height": 190.1875,
    "deepnote_output_heights": [
     21.1875
    ]
   },
   "source": "# Entrenemiento del modelo con set de entrenamiento y predicción en el set de test\nbagclas.fit(X_train, y_train)\ny_pred = bagclas.predict(X_test)\nbag_tree_acc = accuracy_score(y_test, y_pred)\nbag_tree_acc",
   "execution_count": null,
   "outputs": [
    {
     "output_type": "execute_result",
     "execution_count": 14,
     "data": {
      "text/plain": "0.8530600461893765"
     },
     "metadata": {}
    }
   ]
  },
  {
   "cell_type": "markdown",
   "source": "Realizando el bagging con la libreria y limitando la cantidad de variables en cada partición el modelo logra superar tanto el modelo de bagging manual como el arbol manual, mostrando una relación entre el desempeño y la cantidad de variables usadas.",
   "metadata": {
    "cell_id": "0f2a158318ef4ff781adb3c1575df9f8",
    "tags": [],
    "deepnote_cell_type": "markdown",
    "deepnote_cell_height": 74.796875
   }
  },
  {
   "cell_type": "markdown",
   "source": "### Punto 4 - Random forest con librería\n\nEn la celda 4, usando la librería sklearn entrenen un modelo de Randon Forest para clasificación y presenten el acurracy del modelo en el set de test y comenten sus resultados.",
   "metadata": {
    "cell_id": "00013-d802b736-b78e-4b15-a2c5-af7669150a73",
    "deepnote_cell_type": "markdown",
    "deepnote_cell_height": 122.796875
   }
  },
  {
   "cell_type": "code",
   "metadata": {
    "cell_id": "00014-0764336d-68f8-4d4b-b33f-6c0e41768090",
    "deepnote_to_be_reexecuted": false,
    "source_hash": "95ce15a7",
    "execution_start": 1649647051051,
    "execution_millis": 1480,
    "deepnote_cell_type": "code",
    "deepnote_cell_height": 564
   },
   "source": "# Celda 4\n\n# Librerias para implementar Random Forest de clasificación\nfrom sklearn.ensemble import RandomForestClassifier\nfrom sklearn.model_selection import cross_val_score\n\n# Definición de modelo Random Forest para un problema de clasificación\nclf_rf_default = RandomForestClassifier(random_state=1)\nclf_rf_default\n\n# Entrenamiento del modelo Random Forest con los parámetros por defecto\nclf_rf_default.fit(X_train, y_train)\n\n# Impresión de desempeño del modelo usando la función cross_val_score\n#pd.Series(cross_val_score(clf_rf_default, X_train, y_train, cv=10)).describe()\n\n# Predicciones con el Random Forest y los parámetros por defecto\ny_pred_rf_default_train = clf_rf_default.predict(X_train) # Predicción en train\ny_pred_rf_default_test = clf_rf_default.predict(X_test) # Predicción en test\n\n# Calculo del accuracy para modelo Random Forest con parámetros por defecto\nacc_rf_default_train = accuracy_score(y_train, y_pred_rf_default_train) # Accuracy en train\nacc_rf_default_test = accuracy_score(y_test, y_pred_rf_default_test) # Accuracy en test\nprint('Accuracy evaluado respecto a la muestra de train: ', acc_rf_default_train)\nprint('Accuracy evaluado respecto a la muestra de test: ', acc_rf_default_test)",
   "execution_count": null,
   "outputs": [
    {
     "name": "stdout",
     "text": "Accuracy evaluado respecto a la muestra de train:  0.998151045370502\nAccuracy evaluado respecto a la muestra de test:  0.8302540415704388\n",
     "output_type": "stream"
    }
   ]
  },
  {
   "cell_type": "markdown",
   "source": "En la celda anterior se ha implementado, entrenado y evaluado un modelo de Random Forest con los parámetros por defecto y usando la semilla *random_state=1* para poder reproducir ciertos resultados. **El modelo Random Forest se ha evaluado calculando el accurray en el conjunto de train y el de test**, y al compararlos **se puede ver un sobre-ajuste (overfitting) en el modelo porque en el conjunto de train hay un valor alto de accuracy (0.999), y un valor menor, con amplia diferencia, para el accuracy en el cojunto de test (0.843)**. Esta clara diferencia entre los dos valores de accuracy permite ver que el modelo se ha entrenado o ajustado muy bien a los datos de entrenamiento, pero al evaluarlo en datos nuevos (y_test) no tiene el poder predictivo y de generalización que se busca en un modelo de este tipo. Un buen indicio de generalización es que los dos valores del accuracy (tanto en train como en test) den lo más alto posible y lo más cercano entre ellos, esto permite tener una mejor garantía para la cualidad de generalización del modelo. Por ello en la siguiente sección se busca calibrar algunos parámetros importantes del modelo Random Forest en busca de una mejora en la generalización.",
   "metadata": {
    "cell_id": "71f3d197976c449f9093faf35f0ed69a",
    "tags": [],
    "deepnote_cell_type": "markdown",
    "deepnote_cell_height": 209.1875
   }
  },
  {
   "cell_type": "markdown",
   "source": "### Punto 5 - Calibración de parámetros Random forest\n\nEn la celda 5, calibren los parámetros max_depth, max_features y n_estimators del modelo de Randon Forest para clasificación. Presenten el acurracy del modelo en el set de test, comenten sus resultados y análicen cómo cada parámetro afecta el modelo.",
   "metadata": {
    "cell_id": "00015-7599ff35-2b36-4e03-a79e-5ff1451cb952",
    "deepnote_cell_type": "markdown",
    "deepnote_cell_height": 122.796875
   }
  },
  {
   "cell_type": "code",
   "metadata": {
    "cell_id": "00016-1e5c471b-1049-410d-8c27-51aeb81ec525",
    "deepnote_to_be_reexecuted": false,
    "source_hash": "91afdd5d",
    "execution_start": 1649647052321,
    "execution_millis": 4303110,
    "deepnote_cell_type": "code",
    "deepnote_cell_height": 208.1875,
    "deepnote_output_heights": [
     21.1875
    ]
   },
   "source": "# Celda 5\n\n\n# Definición de modelo Random Forest para un problema de clasificación\nclf = RandomForestClassifier(random_state=1)\nclf",
   "execution_count": null,
   "outputs": [
    {
     "output_type": "execute_result",
     "execution_count": 16,
     "data": {
      "text/plain": "RandomForestClassifier(random_state=1)"
     },
     "metadata": {}
    }
   ]
  },
  {
   "cell_type": "markdown",
   "source": "##### Calibración del parámetro n_estimators\nSe inicia calibrando el parámetro **n_estimators**, es decir, el número de árboles que tendrá el bosque aleatorio.",
   "metadata": {
    "cell_id": "0362743b91484e2c834d9501232d8290",
    "tags": [],
    "deepnote_cell_type": "markdown",
    "deepnote_cell_height": 88.390625
   }
  },
  {
   "cell_type": "code",
   "metadata": {
    "cell_id": "489a2a0e56f24dbdb57e51123b11838c",
    "tags": [],
    "deepnote_to_be_reexecuted": false,
    "source_hash": "4ac8aa6e",
    "execution_start": 1649647052336,
    "execution_millis": 284267,
    "deepnote_cell_type": "code",
    "deepnote_cell_height": 261
   },
   "source": "# Creación de lista de valores para iterar sobre diferentes valores de n_estimators\nestimator_range = range(10, 310, 10)\n\n# Definición de lista para almacenar la exactitud (accuracy) promedio para cada valor de n_estimators\naccuracy_scores = []\n\n# Uso de un 5-fold cross-validation para cada valor de n_estimators\nfor estimator in estimator_range:\n    clf = RandomForestClassifier(n_estimators=estimator, random_state=1, n_jobs=-1)\n    accuracy_scores.append(cross_val_score(clf, X_train, y_train, cv=5, scoring='accuracy').mean())\n",
   "execution_count": null,
   "outputs": []
  },
  {
   "cell_type": "code",
   "metadata": {
    "cell_id": "7720c93322ae47c681ffc892d0b88ceb",
    "tags": [],
    "deepnote_to_be_reexecuted": false,
    "source_hash": "dc1716fe",
    "execution_start": 1649647336644,
    "execution_millis": 2410,
    "deepnote_cell_type": "code",
    "deepnote_cell_height": 135,
    "deepnote_output_heights": [
     155.59375
    ]
   },
   "source": "from sklearn.model_selection import cross_validate\n\nrf = RandomForestClassifier()\ncv_results = cross_validate(rf, X_train, y_train, cv=3, return_estimator=True)",
   "execution_count": null,
   "outputs": []
  },
  {
   "cell_type": "code",
   "metadata": {
    "cell_id": "4e5dbf2158904bc298b6c0604e125f93",
    "tags": [],
    "deepnote_to_be_reexecuted": false,
    "source_hash": "9ffb68ff",
    "execution_start": 1649647339061,
    "execution_millis": 28,
    "deepnote_cell_type": "code",
    "deepnote_cell_height": 118.1875,
    "deepnote_output_heights": [
     21.1875
    ]
   },
   "source": "cv_results[\"estimator\"]",
   "execution_count": null,
   "outputs": [
    {
     "output_type": "execute_result",
     "execution_count": 19,
     "data": {
      "text/plain": "[RandomForestClassifier(), RandomForestClassifier(), RandomForestClassifier()]"
     },
     "metadata": {}
    }
   ]
  },
  {
   "cell_type": "code",
   "metadata": {
    "cell_id": "ce9ce44e1cf746f6926ced634e39670d",
    "tags": [],
    "deepnote_to_be_reexecuted": false,
    "source_hash": "952d8ccc",
    "execution_start": 1649647339095,
    "execution_millis": 146,
    "deepnote_cell_type": "code",
    "deepnote_cell_height": 136.1875,
    "deepnote_output_heights": [
     21.1875
    ]
   },
   "source": "y_pre = cv_results['estimator'][1].predict(X_test)\ny_pre",
   "execution_count": null,
   "outputs": [
    {
     "output_type": "execute_result",
     "execution_count": 20,
     "data": {
      "text/plain": "array([1, 1, 0, ..., 0, 0, 0])"
     },
     "metadata": {}
    }
   ]
  },
  {
   "cell_type": "code",
   "metadata": {
    "cell_id": "27b3c73d88a04f08a32387dffee00950",
    "tags": [],
    "deepnote_to_be_reexecuted": false,
    "source_hash": "6446a10b",
    "execution_start": 1649647339247,
    "execution_millis": 874,
    "deepnote_cell_type": "code",
    "deepnote_cell_height": 504.1875,
    "deepnote_output_heights": [
     21.1875,
     265
    ]
   },
   "source": "import matplotlib.pyplot as plt\n\n# Gráfica del desempeño del modelo vs la cantidad de n_estimators\nplt.plot(estimator_range, accuracy_scores)\nplt.xlabel('n_estimators')\nplt.ylabel('Accuracy')",
   "execution_count": null,
   "outputs": [
    {
     "output_type": "execute_result",
     "execution_count": 21,
     "data": {
      "text/plain": "Text(0, 0.5, 'Accuracy')"
     },
     "metadata": {}
    },
    {
     "data": {
      "text/plain": "<Figure size 432x288 with 1 Axes>",
      "image/png": "[encoded data removed]"
     },
     "metadata": {
      "needs_background": "light",
      "image/png": {
       "width": 404,
       "height": 263
      }
     },
     "output_type": "display_data"
    }
   ]
  },
  {
   "cell_type": "markdown",
   "source": "El comportamiento del desempeño del modelo en función de **n_estimators** es una función decreciente, por lo tanto es incómodo seleccionar un valor óptimo porque básicamente lo que muestra la gráfica es que entre menos árboles mejor es el desempeño. A pesar del comportaminto descrito, el primer lugar donde **parece romperse la tendencia y aparecer un máximo local es alrededor de 60 árboles o estimadores**, por lo cual será el valor seleccionado para este parámetro.",
   "metadata": {
    "cell_id": "dba68b573a9046828ea105dbfcacb0c4",
    "tags": [],
    "deepnote_cell_type": "markdown",
    "deepnote_cell_height": 119.59375
   }
  },
  {
   "cell_type": "markdown",
   "source": "##### Calibración del parámetro max_features\nComo segundo parámetro en importancia a calibrar se tiene el número de características sobre las cuales se podrá realizar binary splitting para cada árbol, **max_features**.",
   "metadata": {
    "cell_id": "73ccc4ebda424f31a55002dca03411fe",
    "tags": [],
    "deepnote_cell_type": "markdown",
    "deepnote_cell_height": 110.796875
   }
  },
  {
   "cell_type": "code",
   "metadata": {
    "cell_id": "1d2c963d806747eb9de05cdd9999137c",
    "tags": [],
    "deepnote_to_be_reexecuted": false,
    "source_hash": "bef08f2b",
    "execution_start": 1649647339766,
    "execution_millis": 40441,
    "deepnote_cell_type": "code",
    "deepnote_cell_height": 297
   },
   "source": "# Selección de variables predictoras\nfeature_cols = X_train.columns\n\n# Creación de lista de valores para iterar sobre diferentes valores de max_features\nfeature_range = range(1, len(feature_cols)+1)\n\n# Definición de lista para almacenar la exactitud (accuracy) promedio para cada valor de max_features\naccuracy_scores = []\n\n# Uso de un 5-fold cross-validation para cada valor de max_features\nfor feature in feature_range:\n    clf = RandomForestClassifier(n_estimators=60, max_features=feature, random_state=1, n_jobs=-1)\n    accuracy_scores.append(cross_val_score(clf, X_train, y_train, cv=5, scoring='accuracy').mean())",
   "execution_count": null,
   "outputs": []
  },
  {
   "cell_type": "code",
   "metadata": {
    "cell_id": "6ef5a14e11144d2b9e36472a84aa3200",
    "tags": [],
    "deepnote_to_be_reexecuted": false,
    "source_hash": "a54cc374",
    "execution_start": 1649647380252,
    "execution_millis": 308,
    "deepnote_cell_type": "code",
    "deepnote_cell_height": 468.1875,
    "deepnote_output_heights": [
     21.1875,
     265
    ]
   },
   "source": "# Gráfica del desempeño del modelo vs la cantidad de max_features\nplt.plot(feature_range, accuracy_scores)\nplt.xlabel('max_features')\nplt.ylabel('Accuracy')",
   "execution_count": null,
   "outputs": [
    {
     "output_type": "execute_result",
     "execution_count": 23,
     "data": {
      "text/plain": "Text(0, 0.5, 'Accuracy')"
     },
     "metadata": {}
    },
    {
     "data": {
      "text/plain": "<Figure size 432x288 with 1 Axes>",
      "image/png": "[encoded data removed]"
     },
     "metadata": {
      "needs_background": "light",
      "image/png": {
       "width": 398,
       "height": 263
      }
     },
     "output_type": "display_data"
    }
   ]
  },
  {
   "cell_type": "markdown",
   "source": "El comportamiento del desempeño del modelo en función de **max_features** presenta un comportamiento creciente, algo diferente a lo que normalmente ocurre: una función que presenta máximo y que no es monótonamente creciente. Este conjunto de datos muestra un comportamiento muy peculiar respecto a lo que se espera comúnmente. Por lo cual **siguiendo lo que nos muestra la gráfica y debido a que se desea tener cierta aleatoriedad en la selección de variables vamos a dejar 7 variables, casi la totalidad de ellas**.",
   "metadata": {
    "cell_id": "52b5197ff2ab4d33addfe60d5d76e4af",
    "tags": [],
    "deepnote_cell_type": "markdown",
    "deepnote_cell_height": 119.59375
   }
  },
  {
   "cell_type": "markdown",
   "source": "##### Calibración del parámetro max_depth\nPor último se calibra el parámetro **max_depth** que representa la profundidad  hasta la cual se realizarán particiones binarias en cada uno de los árboles del bosque aleatorio.",
   "metadata": {
    "cell_id": "48cd9bacb3ca4c7088d320fee3c7f3e1",
    "tags": [],
    "deepnote_cell_type": "markdown",
    "deepnote_cell_height": 110.796875
   }
  },
  {
   "cell_type": "code",
   "metadata": {
    "cell_id": "41b7b491d595456e9095616cfeb034cd",
    "tags": [],
    "deepnote_to_be_reexecuted": false,
    "source_hash": "39a546be",
    "execution_start": 1649647380588,
    "execution_millis": 33091,
    "deepnote_cell_type": "code",
    "deepnote_cell_height": 243
   },
   "source": "# Creación de lista de valores para iterar sobre diferentes valores de max_depth\ndepth_range = range(1, len(feature_cols)+1)\n\n# Definición de lista para almacenar la exactitud (accuracy) promedio para cada valor de max_depth\naccuracy_scores = []\n\n# Uso de un 5-fold cross-validation para cada valor de max_depth\nfor depth in depth_range:\n    clf = RandomForestClassifier(n_estimators=60, max_features=7, max_depth=depth, random_state=1, n_jobs=-1)\n    accuracy_scores.append(cross_val_score(clf, X_train, y_train, cv=5, scoring='accuracy').mean())",
   "execution_count": null,
   "outputs": []
  },
  {
   "cell_type": "code",
   "metadata": {
    "cell_id": "3bdf6bda2ab24684854533dd42939ac3",
    "tags": [],
    "deepnote_to_be_reexecuted": false,
    "source_hash": "f001758c",
    "execution_start": 1649647413686,
    "execution_millis": 417,
    "deepnote_cell_type": "code",
    "deepnote_cell_height": 468.1875,
    "deepnote_output_heights": [
     21.1875,
     265
    ]
   },
   "source": "# Gráfica del desempeño del modelo vs la cantidad de max_depth\nplt.plot(depth_range, accuracy_scores)\nplt.xlabel('max_depth')\nplt.ylabel('Accuracy')",
   "execution_count": null,
   "outputs": [
    {
     "output_type": "execute_result",
     "execution_count": 25,
     "data": {
      "text/plain": "Text(0, 0.5, 'Accuracy')"
     },
     "metadata": {}
    },
    {
     "data": {
      "text/plain": "<Figure size 432x288 with 1 Axes>",
      "image/png": "[encoded data removed]"
     },
     "metadata": {
      "needs_background": "light",
      "image/png": {
       "width": 398,
       "height": 263
      }
     },
     "output_type": "display_data"
    }
   ]
  },
  {
   "cell_type": "markdown",
   "source": "El comportamiento del desempeño en función de **max_depth** es el único que presenta un valor máximo y luego decrece, que es lo que normalmente se espera, que la profundidad de cada árbol mejore el desempeño, pero que después de cierto punto ya no produzca aumentos significativos (la gráfica se estabilice) o que se deteriore levemente su desempeño (lo cual ocurre aquí). **Por lo tanto el valor óptimo en este caso es de 6 niveles de profundidad en los árboles del bosque aleatorio**.\n\n**Algo importante de resaltar hasta aquí es que cada vez que se iba seleccionando el valor óptimo para un parámetro, y se iba usando en la siguiente calibración iba mejorando el accuracy o desempeño del modelo**. En la primera gráfica el máximo fue aproximadamente de 0.837, en la segunda de 0.846 y para la última calibración fue de 0.880. Lo cual muestra que cada valor seleccionado del parámetro fue modificando y mejorando el máximo desempeño del modelo.",
   "metadata": {
    "cell_id": "ab0088a799f94027a37e45970027235b",
    "tags": [],
    "deepnote_cell_type": "markdown",
    "deepnote_cell_height": 223.1875
   }
  },
  {
   "cell_type": "markdown",
   "source": "##### Accuracy del modelo Random Forest en el conjunto de test (mejores valores en los parámetros)\nFinalmente, vamos a evaluar el accuracy del modelo en el conjunto de train y test para analizar si hemos mejorado el sobre-ajuste (overfitting) que presentaba nuestro modelo Random Forest sin calibrar (el del punto 4 de este laboratorio).",
   "metadata": {
    "cell_id": "7ccd1c7310b44c0bade06544d6cbb348",
    "tags": [],
    "deepnote_cell_type": "markdown",
    "deepnote_cell_height": 110.796875
   }
  },
  {
   "cell_type": "code",
   "metadata": {
    "cell_id": "02fa721895534c01a2f58244fed3135e",
    "tags": [],
    "deepnote_to_be_reexecuted": false,
    "source_hash": "f50b332c",
    "execution_start": 1649647414109,
    "execution_millis": 1672,
    "deepnote_cell_type": "code",
    "deepnote_cell_height": 402
   },
   "source": "# Definición del modelo con los parámetros max_features=7, max_depth=6 y n_estimators=60 \nclf = RandomForestClassifier(n_estimators=60, max_features=7, max_depth=6, random_state=1, n_jobs=-1)\nclf.fit(X_train, y_train)\n\n# Predicciones con el Random Forest y los mejores valores de los parámetros\ny_pred_train = clf.predict(X_train) # Predicción en train\ny_pred_test = clf.predict(X_test) # Predicción en test\n\n# Calculo del accuracy para modelo Random Forest con los mejores valores de los parámetros\nacc_train = accuracy_score(y_train, y_pred_train) # Accuracy en train\nacc_test = accuracy_score(y_test, y_pred_test) # Accuracy en test\n\nacc_rdf_cal_test = acc_test\n\nprint('Accuracy evaluado respecto a la muestra de train: ', acc_train)\nprint('Accuracy evaluado respecto a la muestra de test: ', acc_test)",
   "execution_count": null,
   "outputs": [
    {
     "name": "stdout",
     "text": "Accuracy evaluado respecto a la muestra de train:  0.8946095861186175\nAccuracy evaluado respecto a la muestra de test:  0.8830831408775982\n",
     "output_type": "stream"
    }
   ]
  },
  {
   "cell_type": "markdown",
   "source": "**Como se puede ver ha mejorado el accuracy en la conjunto de test del modelo sin calibrar al modelo calibrado (paso de 0.843 a 0.888)**. Adicionalmente, **se hace notar que el sobre-ajuste (overfitting) ha sido corregido con la calibración ya que ahora los accuracy medidos en train y test dan similares, 0.894 en train y 0.883 en test**, es decir, se ha logrado aumentar el accuracy en test al calibrar el modelo y reducirlo en train de tal forma que ahora son similares, permitiendo confiar en el poder predictivo del modelo para datos nuevos, esto es, en la cualidad de generalización que debe tener.",
   "metadata": {
    "cell_id": "93fefa6f5c934e59b1b412f9991472ac",
    "tags": [],
    "deepnote_cell_type": "markdown",
    "deepnote_cell_height": 119.59375
   }
  },
  {
   "cell_type": "markdown",
   "source": "### Punto 6 - XGBoost con librería\n\nEn la celda 6 implementen un modelo XGBoost de clasificación con la librería sklearn, presenten el acurracy del modelo en el set de test y comenten sus resultados.",
   "metadata": {
    "cell_id": "00017-76715dd1-4fb0-40c6-be75-ddba63003b92",
    "deepnote_cell_type": "markdown",
    "deepnote_cell_height": 122.796875
   }
  },
  {
   "cell_type": "code",
   "metadata": {
    "cell_id": "f0b1522a6c884ef1948eddb7b2852eb5",
    "tags": [],
    "deepnote_to_be_reexecuted": false,
    "source_hash": "c73cadde",
    "execution_start": 1649647429986,
    "execution_millis": 30382,
    "deepnote_cell_type": "code",
    "deepnote_cell_height": 290
   },
   "source": "!pip install xgboost\nfrom xgboost import XGBClassifier",
   "execution_count": null,
   "outputs": [
    {
     "name": "stdout",
     "text": "Collecting xgboost\n  Downloading xgboost-1.5.2-py3-none-manylinux2014_x86_64.whl (173.6 MB)\n\u001b[K     |████████████████████████████████| 173.6 MB 13 kB/s \n\u001b[?25hRequirement already satisfied: numpy in /shared-libs/python3.7/py/lib/python3.7/site-packages (from xgboost) (1.21.5)\nRequirement already satisfied: scipy in /shared-libs/python3.7/py/lib/python3.7/site-packages (from xgboost) (1.7.3)\nInstalling collected packages: xgboost\nSuccessfully installed xgboost-1.5.2\n\u001b[33mWARNING: You are using pip version 20.1.1; however, version 22.0.4 is available.\nYou should consider upgrading via the '/root/venv/bin/python -m pip install --upgrade pip' command.\u001b[0m\n",
     "output_type": "stream"
    }
   ]
  },
  {
   "cell_type": "code",
   "metadata": {
    "cell_id": "00018-653b4da3-bfa1-4d3b-a1c1-a7d54f95d6b6",
    "deepnote_to_be_reexecuted": false,
    "source_hash": "8fedf35e",
    "execution_start": 1649647473337,
    "execution_millis": 4393,
    "deepnote_cell_type": "code",
    "deepnote_cell_height": 480.796875,
    "deepnote_output_heights": [
     null,
     21.1875
    ]
   },
   "source": "# Celda 6\n\n\n# Importación y definición de modelo XGBClassifier\nclf = XGBClassifier()\n\n# Entrenamiento (fit) del modelo XGBClassifier\nclf.fit(X_train, y_train)\n\n# Predicciones con el XGBoost y los parámetros por defecto\ny_pred_train = clf.predict(X_train) # Predicción en train\ny_pred_test = clf.predict(X_test) # Predicción en test\n\n# Calculo del accuracy para modelo XGBoost con parámetros por defecto\nacc_xgb_def_lib_train = accuracy_score(y_train.values, y_pred_train) # Accuracy en train\nacc_xgb_def_lib_test = accuracy_score(y_test.values, y_pred_test) # Accuracy en test\nprint('Accuracy evaluado respecto a la muestra de train: ', acc_xgb_def_lib_train)\nprint('Accuracy evaluado respecto a la muestra de test: ', acc_xgb_def_lib_test)\n",
   "execution_count": null,
   "outputs": [
    {
     "name": "stdout",
     "text": "[03:24:33] WARNING: ../src/learner.cc:1115: Starting in XGBoost 1.3.0, the default evaluation metric used with the objective 'binary:logistic' was changed from 'error' to 'logloss'. Explicitly set eval_metric if you'd like to restore the old behavior.\nAccuracy evaluado respecto a la muestra de train:  0.9180770871853221\nAccuracy evaluado respecto a la muestra de test:  0.870958429561201\n",
     "output_type": "stream"
    }
   ]
  },
  {
   "cell_type": "markdown",
   "source": "En la celda anterior se ha implementado, entrenado y evaluado un modelo de XGBoost  con los parámetros por defecto. **El modelo XGBoost se ha evaluado calculando el accurray en el conjunto de train y el de test**, y al compararlos **se puede ver una ligera diferencia en el modelo porque en el conjunto de train hay un valor del accuracy de 0.918, y un valor ligeramente menor para el accuracy en el cojunto de test 0.871**. El valor del accuracy en test es similar al valor encontrado con el modelo calibrado de Random Forest, esto da buenos indicios de mejorar y superar el poder predictivo al realizar la calibración del modelo XGBoost. La diferencia entre los accuracy en test y train, y los valores en si puede mejorarse al calibrar algunos parámetros del modelo con el ánimo de tener un mayor poder predictivo y de generalización. Se evaluará en la siguiente sección si se pueden aumentar los valores del accuracy (en train y test) y hacer que sean mucho más cercanos entre ellos, consiguiendo así la generalización buscada para predecir en nuevos valores.",
   "metadata": {
    "cell_id": "f1f4b69049bc4fa798f936fcedf4019f",
    "tags": [],
    "deepnote_cell_type": "markdown",
    "deepnote_cell_height": 186.796875
   }
  },
  {
   "cell_type": "markdown",
   "source": "### Punto 7 - Calibración de parámetros XGBoost\n\nEn la celda 7 calibren los parámetros learning rate, gamma y colsample_bytree del modelo XGBoost para clasificación. Presenten el acurracy del modelo en el set de test, comenten sus resultados y análicen cómo cada parámetro afecta el modelo.",
   "metadata": {
    "cell_id": "00019-7d6a0b18-5b8b-4505-af26-c429f7dbdb7c",
    "deepnote_cell_type": "markdown",
    "deepnote_cell_height": 122.796875
   }
  },
  {
   "cell_type": "markdown",
   "source": "##### Calibración del parámetro learning_rate\nSe inicia calibrando el parámetro **learning_rate**, es decir, la rapidez con la que aprenderá el modelo de boosting.",
   "metadata": {
    "cell_id": "15a838e2f3f7417e82d9298ec9f015db",
    "tags": [],
    "deepnote_cell_type": "markdown",
    "deepnote_cell_height": 88.390625
   }
  },
  {
   "cell_type": "code",
   "metadata": {
    "cell_id": "00020-4f299ee6-171d-4d17-bfac-63f884aa53c7",
    "deepnote_to_be_reexecuted": false,
    "source_hash": "5f0162db",
    "execution_start": 1649648684545,
    "execution_millis": 310687,
    "deepnote_cell_type": "code",
    "deepnote_cell_height": 899
   },
   "source": "from sklearn.model_selection import cross_val_score\n# Celda 7\n# Creación de lista de valores para iterar sobre diferentes valores de n_estimators\nlearning_range = range(0, 100, 10)\n\n# Definición de lista para almacenar la exactitud (accuracy) promedio para cada valor de n_estimators\naccuracy_scores = []\n\n# Uso de un 5-fold cross-validation para cada valor de learning_range\nfor rate in learning_range:\n    clf = XGBClassifier(learning_rate=rate/100, random_state=1, n_jobs=-1)\n    accuracy_scores.append(cross_val_score(clf, X, y, cv=5, scoring='accuracy').mean())",
   "execution_count": null,
   "outputs": [
    {
     "name": "stdout",
     "text": "[03:44:45] WARNING: ../src/learner.cc:1115: Starting in XGBoost 1.3.0, the default evaluation metric used with the objective 'binary:logistic' was changed from 'error' to 'logloss'. Explicitly set eval_metric if you'd like to restore the old behavior.\n[03:44:51] WARNING: ../src/learner.cc:1115: Starting in XGBoost 1.3.0, the default evaluation metric used with the objective 'binary:logistic' was changed from 'error' to 'logloss'. Explicitly set eval_metric if you'd like to restore the old behavior.\n[03:44:57] WARNING: ../src/learner.cc:1115: Starting in XGBoost 1.3.0, the default evaluation metric used with the objective 'binary:logistic' was changed from 'error' to 'logloss'. Explicitly set eval_metric if you'd like to restore the old behavior.\n[03:45:02] WARNING: ../src/learner.cc:1115: Starting in XGBoost 1.3.0, the default evaluation metric used with the objective 'binary:logistic' was changed from 'error' to 'logloss'. Explicitly set eval_metric if you'd like to restore the old behavior.\n[03:45:09] WARNING: ../src/learner.cc:1115: Starting in XGBoost 1.3.0, the default evaluation metric used with the objective 'binary:logistic' was changed from 'error' to 'logloss'. Explicitly set eval_metric if you'd like to restore the old behavior.\n[03:45:17] WARNING: ../src/learner.cc:1115: Starting in XGBoost 1.3.0, the default evaluation metric used with the objective 'binary:logistic' was changed from 'error' to 'logloss'. Explicitly set eval_metric if you'd like to restore the old behavior.\n[03:45:22] WARNING: ../src/learner.cc:1115: Starting in XGBoost 1.3.0, the default evaluation metric used with the objective 'binary:logistic' was changed from 'error' to 'logloss'. Explicitly set eval_metric if you'd like to restore the old behavior.\n[03:45:31] WARNING: ../src/learner.cc:1115: Starting in XGBoost 1.3.0, the default evaluation metric used with the objective 'binary:logistic' was changed from 'error' to 'logloss'. Explicitly set eval_metric if you'd like to restore the old behavior.\n[03:45:37] WARNING: ../src/learner.cc:1115: Starting in XGBoost 1.3.0, the default evaluation metric used with the objective 'binary:logistic' was changed from 'error' to 'logloss'. Explicitly set eval_metric if you'd like to restore the old behavior.\n[03:45:42] WARNING: ../src/learner.cc:1115: Starting in XGBoost 1.3.0, the default evaluation metric used with the objective 'binary:logistic' was changed from 'error' to 'logloss'. Explicitly set eval_metric if you'd like to restore the old behavior.\n[03:45:50] WARNING: ../src/learner.cc:1115: Starting in XGBoost 1.3.0, the default evaluation metric used with the objective 'binary:logistic' was changed from 'error' to 'logloss'. Explicitly set eval_metric if you'd like to restore the old behavior.\n[03:45:52] WARNING: ../src/learner.cc:1115: Starting in XGBoost 1.3.0, the default evaluation metric used with the objective 'binary:logistic' was changed from 'error' to 'logloss'. Explicitly set eval_metric if you'd like to restore the old behavior.\n[03:45:59] WARNING: ../src/learner.cc:1115: Starting in XGBoost 1.3.0, the default evaluation metric used with the objective 'binary:logistic' was changed from 'error' to 'logloss'. Explicitly set eval_metric if you'd like to restore the old behavior.\n[03:46:06] WARNING: ../src/learner.cc:1115: Starting in XGBoost 1.3.0, the default evaluation metric used with the objective 'binary:logistic' was changed from 'error' to 'logloss'. Explicitly set eval_metric if you'd like to restore the old behavior.\n[03:46:17] WARNING: ../src/learner.cc:1115: Starting in XGBoost 1.3.0, the default evaluation metric used with the objective 'binary:logistic' was changed from 'error' to 'logloss'. Explicitly set eval_metric if you'd like to restore the old behavior.\n[03:46:29] WARNING: ../src/learner.cc:1115: Starting in XGBoost 1.3.0, the default evaluation metric used with the objective 'binary:logistic' was changed from 'error' to 'logloss'. Explicitly set eval_metric if you'd like to restore the old behavior.\n[03:46:42] WARNING: ../src/learner.cc:1115: Starting in XGBoost 1.3.0, the default evaluation metric used with the objective 'binary:logistic' was changed from 'error' to 'logloss'. Explicitly set eval_metric if you'd like to restore the old behavior.\n[03:46:46] WARNING: ../src/learner.cc:1115: Starting in XGBoost 1.3.0, the default evaluation metric used with the objective 'binary:logistic' was changed from 'error' to 'logloss'. Explicitly set eval_metric if you'd like to restore the old behavior.\n[03:46:48] WARNING: ../src/learner.cc:1115: Starting in XGBoost 1.3.0, the default evaluation metric used with the objective 'binary:logistic' was changed from 'error' to 'logloss'. Explicitly set eval_metric if you'd like to restore the old behavior.\n[03:46:54] WARNING: ../src/learner.cc:1115: Starting in XGBoost 1.3.0, the default evaluation metric used with the objective 'binary:logistic' was changed from 'error' to 'logloss'. Explicitly set eval_metric if you'd like to restore the old behavior.\n[03:47:06] WARNING: ../src/learner.cc:1115: Starting in XGBoost 1.3.0, the default evaluation metric used with the objective 'binary:logistic' was changed from 'error' to 'logloss'. Explicitly set eval_metric if you'd like to restore the old behavior.\n[03:47:11] WARNING: ../src/learner.cc:1115: Starting in XGBoost 1.3.0, the default evaluation metric used with the objective 'binary:logistic' was changed from 'error' to 'logloss'. Explicitly set eval_metric if you'd like to restore the old behavior.\n[03:47:18] WARNING: ../src/learner.cc:1115: Starting in XGBoost 1.3.0, the default evaluation metric used with the objective 'binary:logistic' was changed from 'error' to 'logloss'. Explicitly set eval_metric if you'd like to restore the old behavior.\n[03:47:24] WARNING: ../src/learner.cc:1115: Starting in XGBoost 1.3.0, the default evaluation metric used with the objective 'binary:logistic' was changed from 'error' to 'logloss'. Explicitly set eval_metric if you'd like to restore the old behavior.\n[03:47:31] WARNING: ../src/learner.cc:1115: Starting in XGBoost 1.3.0, the default evaluation metric used with the objective 'binary:logistic' was changed from 'error' to 'logloss'. Explicitly set eval_metric if you'd like to restore the old behavior.\n[03:47:40] WARNING: ../src/learner.cc:1115: Starting in XGBoost 1.3.0, the default evaluation metric used with the objective 'binary:logistic' was changed from 'error' to 'logloss'. Explicitly set eval_metric if you'd like to restore the old behavior.\n[03:47:43] WARNING: ../src/learner.cc:1115: Starting in XGBoost 1.3.0, the default evaluation metric used with the objective 'binary:logistic' was changed from 'error' to 'logloss'. Explicitly set eval_metric if you'd like to restore the old behavior.\n[03:47:48] WARNING: ../src/learner.cc:1115: Starting in XGBoost 1.3.0, the default evaluation metric used with the objective 'binary:logistic' was changed from 'error' to 'logloss'. Explicitly set eval_metric if you'd like to restore the old behavior.\n[03:47:53] WARNING: ../src/learner.cc:1115: Starting in XGBoost 1.3.0, the default evaluation metric used with the objective 'binary:logistic' was changed from 'error' to 'logloss'. Explicitly set eval_metric if you'd like to restore the old behavior.\n[03:47:58] WARNING: ../src/learner.cc:1115: Starting in XGBoost 1.3.0, the default evaluation metric used with the objective 'binary:logistic' was changed from 'error' to 'logloss'. Explicitly set eval_metric if you'd like to restore the old behavior.\n[03:48:01] WARNING: ../src/learner.cc:1115: Starting in XGBoost 1.3.0, the default evaluation metric used with the objective 'binary:logistic' was changed from 'error' to 'logloss'. Explicitly set eval_metric if you'd like to restore the old behavior.\n[03:48:08] WARNING: ../src/learner.cc:1115: Starting in XGBoost 1.3.0, the default evaluation metric used with the objective 'binary:logistic' was changed from 'error' to 'logloss'. Explicitly set eval_metric if you'd like to restore the old behavior.\n[03:48:14] WARNING: ../src/learner.cc:1115: Starting in XGBoost 1.3.0, the default evaluation metric used with the objective 'binary:logistic' was changed from 'error' to 'logloss'. Explicitly set eval_metric if you'd like to restore the old behavior.\n[03:48:22] WARNING: ../src/learner.cc:1115: Starting in XGBoost 1.3.0, the default evaluation metric used with the objective 'binary:logistic' was changed from 'error' to 'logloss'. Explicitly set eval_metric if you'd like to restore the old behavior.\n[03:48:27] WARNING: ../src/learner.cc:1115: Starting in XGBoost 1.3.0, the default evaluation metric used with the objective 'binary:logistic' was changed from 'error' to 'logloss'. Explicitly set eval_metric if you'd like to restore the old behavior.\n[03:48:39] WARNING: ../src/learner.cc:1115: Starting in XGBoost 1.3.0, the default evaluation metric used with the objective 'binary:logistic' was changed from 'error' to 'logloss'. Explicitly set eval_metric if you'd like to restore the old behavior.\n[03:48:43] WARNING: ../src/learner.cc:1115: Starting in XGBoost 1.3.0, the default evaluation metric used with the objective 'binary:logistic' was changed from 'error' to 'logloss'. Explicitly set eval_metric if you'd like to restore the old behavior.\n[03:48:54] WARNING: ../src/learner.cc:1115: Starting in XGBoost 1.3.0, the default evaluation metric used with the objective 'binary:logistic' was changed from 'error' to 'logloss'. Explicitly set eval_metric if you'd like to restore the old behavior.\n[03:48:59] WARNING: ../src/learner.cc:1115: Starting in XGBoost 1.3.0, the default evaluation metric used with the objective 'binary:logistic' was changed from 'error' to 'logloss'. Explicitly set eval_metric if you'd like to restore the old behavior.\n[03:49:03] WARNING: ../src/learner.cc:1115: Starting in XGBoost 1.3.0, the default evaluation metric used with the objective 'binary:logistic' was changed from 'error' to 'logloss'. Explicitly set eval_metric if you'd like to restore the old behavior.\n[03:49:09] WARNING: ../src/learner.cc:1115: Starting in XGBoost 1.3.0, the default evaluation metric used with the objective 'binary:logistic' was changed from 'error' to 'logloss'. Explicitly set eval_metric if you'd like to restore the old behavior.\n[03:49:15] WARNING: ../src/learner.cc:1115: Starting in XGBoost 1.3.0, the default evaluation metric used with the objective 'binary:logistic' was changed from 'error' to 'logloss'. Explicitly set eval_metric if you'd like to restore the old behavior.\n[03:49:18] WARNING: ../src/learner.cc:1115: Starting in XGBoost 1.3.0, the default evaluation metric used with the objective 'binary:logistic' was changed from 'error' to 'logloss'. Explicitly set eval_metric if you'd like to restore the old behavior.\n[03:49:21] WARNING: ../src/learner.cc:1115: Starting in XGBoost 1.3.0, the default evaluation metric used with the objective 'binary:logistic' was changed from 'error' to 'logloss'. Explicitly set eval_metric if you'd like to restore the old behavior.\n[03:49:27] WARNING: ../src/learner.cc:1115: Starting in XGBoost 1.3.0, the default evaluation metric used with the objective 'binary:logistic' was changed from 'error' to 'logloss'. Explicitly set eval_metric if you'd like to restore the old behavior.\n[03:49:30] WARNING: ../src/learner.cc:1115: Starting in XGBoost 1.3.0, the default evaluation metric used with the objective 'binary:logistic' was changed from 'error' to 'logloss'. Explicitly set eval_metric if you'd like to restore the old behavior.\n[03:49:34] WARNING: ../src/learner.cc:1115: Starting in XGBoost 1.3.0, the default evaluation metric used with the objective 'binary:logistic' was changed from 'error' to 'logloss'. Explicitly set eval_metric if you'd like to restore the old behavior.\n[03:49:38] WARNING: ../src/learner.cc:1115: Starting in XGBoost 1.3.0, the default evaluation metric used with the objective 'binary:logistic' was changed from 'error' to 'logloss'. Explicitly set eval_metric if you'd like to restore the old behavior.\n[03:49:42] WARNING: ../src/learner.cc:1115: Starting in XGBoost 1.3.0, the default evaluation metric used with the objective 'binary:logistic' was changed from 'error' to 'logloss'. Explicitly set eval_metric if you'd like to restore the old behavior.\n[03:49:49] WARNING: ../src/learner.cc:1115: Starting in XGBoost 1.3.0, the default evaluation metric used with the objective 'binary:logistic' was changed from 'error' to 'logloss'. Explicitly set eval_metric if you'd like to restore the old behavior.\n",
     "output_type": "stream"
    }
   ]
  },
  {
   "cell_type": "code",
   "metadata": {
    "cell_id": "10134a5b0ff04ca493f96081fcc6c854",
    "tags": [],
    "deepnote_to_be_reexecuted": false,
    "source_hash": "da6ad07c",
    "execution_start": 1649647802130,
    "execution_millis": 392,
    "deepnote_cell_type": "code",
    "deepnote_cell_height": 469.1875,
    "deepnote_output_heights": [
     21.1875,
     266
    ]
   },
   "source": "# Gráfica del desempeño del modelo vs el learning rate\nplt.plot(learning_range, accuracy_scores)\nplt.xlabel('learning_rate')\nplt.ylabel('Accuracy')",
   "execution_count": null,
   "outputs": [
    {
     "output_type": "execute_result",
     "execution_count": 31,
     "data": {
      "text/plain": "Text(0, 0.5, 'Accuracy')"
     },
     "metadata": {}
    },
    {
     "data": {
      "text/plain": "<Figure size 432x288 with 1 Axes>",
      "image/png": "[encoded data removed]"
     },
     "metadata": {
      "needs_background": "light",
      "image/png": {
       "width": 386,
       "height": 264
      }
     },
     "output_type": "display_data"
    }
   ]
  },
  {
   "cell_type": "markdown",
   "source": "##### Calibración del parámetro gamma\nSe continua calibrando el parámetro **gamma**, es decir, la disminución minima requerida para realizar otra partición",
   "metadata": {
    "cell_id": "dc33f09ffe184779bf24844ce6a53d9c",
    "tags": [],
    "deepnote_cell_type": "markdown",
    "deepnote_cell_height": 88.390625
   }
  },
  {
   "cell_type": "code",
   "metadata": {
    "cell_id": "def9189240284fa8be7de8bb4d6e7fc3",
    "tags": [],
    "deepnote_to_be_reexecuted": false,
    "source_hash": "fed22ce6",
    "execution_start": 1649649845926,
    "execution_millis": 320418,
    "deepnote_cell_type": "code",
    "deepnote_cell_height": 863,
    "deepnote_output_heights": [
     78.796875,
     606.1875
    ]
   },
   "source": "# Creación de lista de valores para iterar sobre diferentes valores de max_features\ngamma_range = range(0, 10, 1)\n\n# Definición de lista para almacenar la exactitud (accuracy) promedio para cada valor de max_features\naccuracy_scores = []\n\n# Uso de un 5-fold cross-validation para cada valor de max_features\nfor gamm in gamma_range:\n    clf = XGBClassifier(learning_rate=0.1, gamma=gamm/100, random_state=1, n_jobs=-1)\n    accuracy_scores.append(cross_val_score(clf, X, y, cv=5, scoring='accuracy').mean())",
   "execution_count": null,
   "outputs": [
    {
     "name": "stdout",
     "text": "[04:04:05] WARNING: ../src/learner.cc:1115: Starting in XGBoost 1.3.0, the default evaluation metric used with the objective 'binary:logistic' was changed from 'error' to 'logloss'. Explicitly set eval_metric if you'd like to restore the old behavior.\n[04:04:11] WARNING: ../src/learner.cc:1115: Starting in XGBoost 1.3.0, the default evaluation metric used with the objective 'binary:logistic' was changed from 'error' to 'logloss'. Explicitly set eval_metric if you'd like to restore the old behavior.\n[04:04:16] WARNING: ../src/learner.cc:1115: Starting in XGBoost 1.3.0, the default evaluation metric used with the objective 'binary:logistic' was changed from 'error' to 'logloss'. Explicitly set eval_metric if you'd like to restore the old behavior.\n[04:04:18] WARNING: ../src/learner.cc:1115: Starting in XGBoost 1.3.0, the default evaluation metric used with the objective 'binary:logistic' was changed from 'error' to 'logloss'. Explicitly set eval_metric if you'd like to restore the old behavior.\n[04:04:22] WARNING: ../src/learner.cc:1115: Starting in XGBoost 1.3.0, the default evaluation metric used with the objective 'binary:logistic' was changed from 'error' to 'logloss'. Explicitly set eval_metric if you'd like to restore the old behavior.\n[04:04:29] WARNING: ../src/learner.cc:1115: Starting in XGBoost 1.3.0, the default evaluation metric used with the objective 'binary:logistic' was changed from 'error' to 'logloss'. Explicitly set eval_metric if you'd like to restore the old behavior.\n[04:04:32] WARNING: ../src/learner.cc:1115: Starting in XGBoost 1.3.0, the default evaluation metric used with the objective 'binary:logistic' was changed from 'error' to 'logloss'. Explicitly set eval_metric if you'd like to restore the old behavior.\n[04:04:36] WARNING: ../src/learner.cc:1115: Starting in XGBoost 1.3.0, the default evaluation metric used with the objective 'binary:logistic' was changed from 'error' to 'logloss'. Explicitly set eval_metric if you'd like to restore the old behavior.\n[04:04:42] WARNING: ../src/learner.cc:1115: Starting in XGBoost 1.3.0, the default evaluation metric used with the objective 'binary:logistic' was changed from 'error' to 'logloss'. Explicitly set eval_metric if you'd like to restore the old behavior.\n[04:04:49] WARNING: ../src/learner.cc:1115: Starting in XGBoost 1.3.0, the default evaluation metric used with the objective 'binary:logistic' was changed from 'error' to 'logloss'. Explicitly set eval_metric if you'd like to restore the old behavior.\n[04:04:58] WARNING: ../src/learner.cc:1115: Starting in XGBoost 1.3.0, the default evaluation metric used with the objective 'binary:logistic' was changed from 'error' to 'logloss'. Explicitly set eval_metric if you'd like to restore the old behavior.\n[04:05:09] WARNING: ../src/learner.cc:1115: Starting in XGBoost 1.3.0, the default evaluation metric used with the objective 'binary:logistic' was changed from 'error' to 'logloss'. Explicitly set eval_metric if you'd like to restore the old behavior.\n[04:05:12] WARNING: ../src/learner.cc:1115: Starting in XGBoost 1.3.0, the default evaluation metric used with the objective 'binary:logistic' was changed from 'error' to 'logloss'. Explicitly set eval_metric if you'd like to restore the old behavior.\n[04:05:16] WARNING: ../src/learner.cc:1115: Starting in XGBoost 1.3.0, the default evaluation metric used with the objective 'binary:logistic' was changed from 'error' to 'logloss'. Explicitly set eval_metric if you'd like to restore the old behavior.\n[04:05:22] WARNING: ../src/learner.cc:1115: Starting in XGBoost 1.3.0, the default evaluation metric used with the objective 'binary:logistic' was changed from 'error' to 'logloss'. Explicitly set eval_metric if you'd like to restore the old behavior.\n[04:05:26] WARNING: ../src/learner.cc:1115: Starting in XGBoost 1.3.0, the default evaluation metric used with the objective 'binary:logistic' was changed from 'error' to 'logloss'. Explicitly set eval_metric if you'd like to restore the old behavior.\n[04:05:31] WARNING: ../src/learner.cc:1115: Starting in XGBoost 1.3.0, the default evaluation metric used with the objective 'binary:logistic' was changed from 'error' to 'logloss'. Explicitly set eval_metric if you'd like to restore the old behavior.\n[04:05:35] WARNING: ../src/learner.cc:1115: Starting in XGBoost 1.3.0, the default evaluation metric used with the objective 'binary:logistic' was changed from 'error' to 'logloss'. Explicitly set eval_metric if you'd like to restore the old behavior.\n[04:05:43] WARNING: ../src/learner.cc:1115: Starting in XGBoost 1.3.0, the default evaluation metric used with the objective 'binary:logistic' was changed from 'error' to 'logloss'. Explicitly set eval_metric if you'd like to restore the old behavior.\n[04:05:46] WARNING: ../src/learner.cc:1115: Starting in XGBoost 1.3.0, the default evaluation metric used with the objective 'binary:logistic' was changed from 'error' to 'logloss'. Explicitly set eval_metric if you'd like to restore the old behavior.\n[04:05:48] WARNING: ../src/learner.cc:1115: Starting in XGBoost 1.3.0, the default evaluation metric used with the objective 'binary:logistic' was changed from 'error' to 'logloss'. Explicitly set eval_metric if you'd like to restore the old behavior.\n[04:05:54] WARNING: ../src/learner.cc:1115: Starting in XGBoost 1.3.0, the default evaluation metric used with the objective 'binary:logistic' was changed from 'error' to 'logloss'. Explicitly set eval_metric if you'd like to restore the old behavior.\n[04:06:03] WARNING: ../src/learner.cc:1115: Starting in XGBoost 1.3.0, the default evaluation metric used with the objective 'binary:logistic' was changed from 'error' to 'logloss'. Explicitly set eval_metric if you'd like to restore the old behavior.\n[04:06:08] WARNING: ../src/learner.cc:1115: Starting in XGBoost 1.3.0, the default evaluation metric used with the objective 'binary:logistic' was changed from 'error' to 'logloss'. Explicitly set eval_metric if you'd like to restore the old behavior.\n[04:06:15] WARNING: ../src/learner.cc:1115: Starting in XGBoost 1.3.0, the default evaluation metric used with the objective 'binary:logistic' was changed from 'error' to 'logloss'. Explicitly set eval_metric if you'd like to restore the old behavior.\n[04:06:19] WARNING: ../src/learner.cc:1115: Starting in XGBoost 1.3.0, the default evaluation metric used with the objective 'binary:logistic' was changed from 'error' to 'logloss'. Explicitly set eval_metric if you'd like to restore the old behavior.\n[04:06:25] WARNING: ../src/learner.cc:1115: Starting in XGBoost 1.3.0, the default evaluation metric used with the objective 'binary:logistic' was changed from 'error' to 'logloss'. Explicitly set eval_metric if you'd like to restore the old behavior.\n[04:06:34] WARNING: ../src/learner.cc:1115: Starting in XGBoost 1.3.0, the default evaluation metric used with the objective 'binary:logistic' was changed from 'error' to 'logloss'. Explicitly set eval_metric if you'd like to restore the old behavior.\n[04:06:42] WARNING: ../src/learner.cc:1115: Starting in XGBoost 1.3.0, the default evaluation metric used with the objective 'binary:logistic' was changed from 'error' to 'logloss'. Explicitly set eval_metric if you'd like to restore the old behavior.\n[04:06:46] WARNING: ../src/learner.cc:1115: Starting in XGBoost 1.3.0, the default evaluation metric used with the objective 'binary:logistic' was changed from 'error' to 'logloss'. Explicitly set eval_metric if you'd like to restore the old behavior.\n[04:06:51] WARNING: ../src/learner.cc:1115: Starting in XGBoost 1.3.0, the default evaluation metric used with the objective 'binary:logistic' was changed from 'error' to 'logloss'. Explicitly set eval_metric if you'd like to restore the old behavior.\n[04:07:00] WARNING: ../src/learner.cc:1115: Starting in XGBoost 1.3.0, the default evaluation metric used with the objective 'binary:logistic' was changed from 'error' to 'logloss'. Explicitly set eval_metric if you'd like to restore the old behavior.\n[04:07:06] WARNING: ../src/learner.cc:1115: Starting in XGBoost 1.3.0, the default evaluation metric used with the objective 'binary:logistic' was changed from 'error' to 'logloss'. Explicitly set eval_metric if you'd like to restore the old behavior.\n[04:07:12] WARNING: ../src/learner.cc:1115: Starting in XGBoost 1.3.0, the default evaluation metric used with the objective 'binary:logistic' was changed from 'error' to 'logloss'. Explicitly set eval_metric if you'd like to restore the old behavior.\n[04:07:18] WARNING: ../src/learner.cc:1115: Starting in XGBoost 1.3.0, the default evaluation metric used with the objective 'binary:logistic' was changed from 'error' to 'logloss'. Explicitly set eval_metric if you'd like to restore the old behavior.\n[04:07:26] WARNING: ../src/learner.cc:1115: Starting in XGBoost 1.3.0, the default evaluation metric used with the objective 'binary:logistic' was changed from 'error' to 'logloss'. Explicitly set eval_metric if you'd like to restore the old behavior.\n[04:07:35] WARNING: ../src/learner.cc:1115: Starting in XGBoost 1.3.0, the default evaluation metric used with the objective 'binary:logistic' was changed from 'error' to 'logloss'. Explicitly set eval_metric if you'd like to restore the old behavior.\n[04:07:43] WARNING: ../src/learner.cc:1115: Starting in XGBoost 1.3.0, the default evaluation metric used with the objective 'binary:logistic' was changed from 'error' to 'logloss'. Explicitly set eval_metric if you'd like to restore the old behavior.\n[04:07:52] WARNING: ../src/learner.cc:1115: Starting in XGBoost 1.3.0, the default evaluation metric used with the objective 'binary:logistic' was changed from 'error' to 'logloss'. Explicitly set eval_metric if you'd like to restore the old behavior.\n[04:08:03] WARNING: ../src/learner.cc:1115: Starting in XGBoost 1.3.0, the default evaluation metric used with the objective 'binary:logistic' was changed from 'error' to 'logloss'. Explicitly set eval_metric if you'd like to restore the old behavior.\n[04:08:09] WARNING: ../src/learner.cc:1115: Starting in XGBoost 1.3.0, the default evaluation metric used with the objective 'binary:logistic' was changed from 'error' to 'logloss'. Explicitly set eval_metric if you'd like to restore the old behavior.\n[04:08:18] WARNING: ../src/learner.cc:1115: Starting in XGBoost 1.3.0, the default evaluation metric used with the objective 'binary:logistic' was changed from 'error' to 'logloss'. Explicitly set eval_metric if you'd like to restore the old behavior.\n[04:08:26] WARNING: ../src/learner.cc:1115: Starting in XGBoost 1.3.0, the default evaluation metric used with the objective 'binary:logistic' was changed from 'error' to 'logloss'. Explicitly set eval_metric if you'd like to restore the old behavior.\n[04:08:38] WARNING: ../src/learner.cc:1115: Starting in XGBoost 1.3.0, the default evaluation metric used with the objective 'binary:logistic' was changed from 'error' to 'logloss'. Explicitly set eval_metric if you'd like to restore the old behavior.\n[04:08:41] WARNING: ../src/learner.cc:1115: Starting in XGBoost 1.3.0, the default evaluation metric used with the objective 'binary:logistic' was changed from 'error' to 'logloss'. Explicitly set eval_metric if you'd like to restore the old behavior.\n[04:08:51] WARNING: ../src/learner.cc:1115: Starting in XGBoost 1.3.0, the default evaluation metric used with the objective 'binary:logistic' was changed from 'error' to 'logloss'. Explicitly set eval_metric if you'd like to restore the old behavior.\n[04:08:58] WARNING: ../src/learner.cc:1115: Starting in XGBoost 1.3.0, the default evaluation metric used with the objective 'binary:logistic' was changed from 'error' to 'logloss'. Explicitly set eval_metric if you'd like to restore the old behavior.\n[04:09:08] WARNING: ../src/learner.cc:1115: Starting in XGBoost 1.3.0, the default evaluation metric used with the objective 'binary:logistic' was changed from 'error' to 'logloss'. Explicitly set eval_metric if you'd like to restore the old behavior.\n[04:09:16] WARNING: ../src/learner.cc:1115: Starting in XGBoost 1.3.0, the default evaluation metric used with the objective 'binary:logistic' was changed from 'error' to 'logloss'. Explicitly set eval_metric if you'd like to restore the old behavior.\n[04:09:19] WARNING: ../src/learner.cc:1115: Starting in XGBoost 1.3.0, the default evaluation metric used with the objective 'binary:logistic' was changed from 'error' to 'logloss'. Explicitly set eval_metric if you'd like to restore the old behavior.\n",
     "output_type": "stream"
    }
   ]
  },
  {
   "cell_type": "code",
   "metadata": {
    "cell_id": "02386f29ab274a1e9a0f0a917f5804f0",
    "tags": [],
    "deepnote_to_be_reexecuted": false,
    "source_hash": "add939c8",
    "execution_start": 1649650191456,
    "execution_millis": 375,
    "deepnote_cell_type": "code",
    "deepnote_cell_height": 467.1875,
    "deepnote_output_heights": [
     21.1875,
     264
    ]
   },
   "source": "# Gráfica del desempeño del modelo vs el indice gamma\nplt.plot(gamma_range, accuracy_scores)\nplt.xlabel('gamma')\nplt.ylabel('Accuracy')",
   "execution_count": null,
   "outputs": [
    {
     "output_type": "execute_result",
     "execution_count": 46,
     "data": {
      "text/plain": "Text(0, 0.5, 'Accuracy')"
     },
     "metadata": {}
    },
    {
     "data": {
      "text/plain": "<Figure size 432x288 with 1 Axes>",
      "image/png": "[encoded data removed]"
     },
     "metadata": {
      "needs_background": "light",
      "image/png": {
       "width": 404,
       "height": 262
      }
     },
     "output_type": "display_data"
    }
   ]
  },
  {
   "cell_type": "markdown",
   "source": "##### Calibración del parámetro colsample_bytree\nFinalmente se calibra el parámetro **colsample_bytree**, es decir, el submuestreo a las columnas de los datos a utilizar en cada arbol construido",
   "metadata": {
    "cell_id": "2021848529af4d16b0a8ec35a051e5ac",
    "tags": [],
    "deepnote_cell_type": "markdown",
    "deepnote_cell_height": 88.390625
   }
  },
  {
   "cell_type": "code",
   "metadata": {
    "cell_id": "d5ede4ecfe8547eab67634a57e53c6e4",
    "tags": [],
    "deepnote_to_be_reexecuted": false,
    "source_hash": "35d18317",
    "execution_start": 1649650204731,
    "execution_millis": 145482,
    "deepnote_cell_type": "code",
    "deepnote_cell_height": 863
   },
   "source": "# Creación de lista de valores para iterar sobre diferentes valores de max_depth\ncol_range = range(0, 100, 10)\n\n# Definición de lista para almacenar la exactitud (accuracy) promedio para cada valor de max_depth\naccuracy_scores = []\n\n# Uso de un 5-fold cross-validation para cada valor de max_depth\nfor col in col_range:\n    clf = XGBClassifier(learning_rate=0.1, gamma=0.7, colsample_bytree=col/100,random_state=1,  n_jobs=-1)\n    accuracy_scores.append(cross_val_score(clf, X_train, y_train, cv=5, scoring='accuracy').mean())",
   "execution_count": null,
   "outputs": [
    {
     "name": "stdout",
     "text": "[04:10:04] WARNING: ../src/learner.cc:1115: Starting in XGBoost 1.3.0, the default evaluation metric used with the objective 'binary:logistic' was changed from 'error' to 'logloss'. Explicitly set eval_metric if you'd like to restore the old behavior.\n[04:10:05] WARNING: ../src/learner.cc:1115: Starting in XGBoost 1.3.0, the default evaluation metric used with the objective 'binary:logistic' was changed from 'error' to 'logloss'. Explicitly set eval_metric if you'd like to restore the old behavior.\n[04:10:07] WARNING: ../src/learner.cc:1115: Starting in XGBoost 1.3.0, the default evaluation metric used with the objective 'binary:logistic' was changed from 'error' to 'logloss'. Explicitly set eval_metric if you'd like to restore the old behavior.\n[04:10:08] WARNING: ../src/learner.cc:1115: Starting in XGBoost 1.3.0, the default evaluation metric used with the objective 'binary:logistic' was changed from 'error' to 'logloss'. Explicitly set eval_metric if you'd like to restore the old behavior.\n[04:10:10] WARNING: ../src/learner.cc:1115: Starting in XGBoost 1.3.0, the default evaluation metric used with the objective 'binary:logistic' was changed from 'error' to 'logloss'. Explicitly set eval_metric if you'd like to restore the old behavior.\n[04:10:12] WARNING: ../src/learner.cc:1115: Starting in XGBoost 1.3.0, the default evaluation metric used with the objective 'binary:logistic' was changed from 'error' to 'logloss'. Explicitly set eval_metric if you'd like to restore the old behavior.\n[04:10:13] WARNING: ../src/learner.cc:1115: Starting in XGBoost 1.3.0, the default evaluation metric used with the objective 'binary:logistic' was changed from 'error' to 'logloss'. Explicitly set eval_metric if you'd like to restore the old behavior.\n[04:10:13] WARNING: ../src/learner.cc:1115: Starting in XGBoost 1.3.0, the default evaluation metric used with the objective 'binary:logistic' was changed from 'error' to 'logloss'. Explicitly set eval_metric if you'd like to restore the old behavior.\n[04:10:17] WARNING: ../src/learner.cc:1115: Starting in XGBoost 1.3.0, the default evaluation metric used with the objective 'binary:logistic' was changed from 'error' to 'logloss'. Explicitly set eval_metric if you'd like to restore the old behavior.\n[04:10:19] WARNING: ../src/learner.cc:1115: Starting in XGBoost 1.3.0, the default evaluation metric used with the objective 'binary:logistic' was changed from 'error' to 'logloss'. Explicitly set eval_metric if you'd like to restore the old behavior.\n[04:10:20] WARNING: ../src/learner.cc:1115: Starting in XGBoost 1.3.0, the default evaluation metric used with the objective 'binary:logistic' was changed from 'error' to 'logloss'. Explicitly set eval_metric if you'd like to restore the old behavior.\n[04:10:21] WARNING: ../src/learner.cc:1115: Starting in XGBoost 1.3.0, the default evaluation metric used with the objective 'binary:logistic' was changed from 'error' to 'logloss'. Explicitly set eval_metric if you'd like to restore the old behavior.\n[04:10:23] WARNING: ../src/learner.cc:1115: Starting in XGBoost 1.3.0, the default evaluation metric used with the objective 'binary:logistic' was changed from 'error' to 'logloss'. Explicitly set eval_metric if you'd like to restore the old behavior.\n[04:10:27] WARNING: ../src/learner.cc:1115: Starting in XGBoost 1.3.0, the default evaluation metric used with the objective 'binary:logistic' was changed from 'error' to 'logloss'. Explicitly set eval_metric if you'd like to restore the old behavior.\n[04:10:30] WARNING: ../src/learner.cc:1115: Starting in XGBoost 1.3.0, the default evaluation metric used with the objective 'binary:logistic' was changed from 'error' to 'logloss'. Explicitly set eval_metric if you'd like to restore the old behavior.\n[04:10:32] WARNING: ../src/learner.cc:1115: Starting in XGBoost 1.3.0, the default evaluation metric used with the objective 'binary:logistic' was changed from 'error' to 'logloss'. Explicitly set eval_metric if you'd like to restore the old behavior.\n[04:10:35] WARNING: ../src/learner.cc:1115: Starting in XGBoost 1.3.0, the default evaluation metric used with the objective 'binary:logistic' was changed from 'error' to 'logloss'. Explicitly set eval_metric if you'd like to restore the old behavior.\n[04:10:37] WARNING: ../src/learner.cc:1115: Starting in XGBoost 1.3.0, the default evaluation metric used with the objective 'binary:logistic' was changed from 'error' to 'logloss'. Explicitly set eval_metric if you'd like to restore the old behavior.\n[04:10:43] WARNING: ../src/learner.cc:1115: Starting in XGBoost 1.3.0, the default evaluation metric used with the objective 'binary:logistic' was changed from 'error' to 'logloss'. Explicitly set eval_metric if you'd like to restore the old behavior.\n[04:10:47] WARNING: ../src/learner.cc:1115: Starting in XGBoost 1.3.0, the default evaluation metric used with the objective 'binary:logistic' was changed from 'error' to 'logloss'. Explicitly set eval_metric if you'd like to restore the old behavior.\n[04:10:48] WARNING: ../src/learner.cc:1115: Starting in XGBoost 1.3.0, the default evaluation metric used with the objective 'binary:logistic' was changed from 'error' to 'logloss'. Explicitly set eval_metric if you'd like to restore the old behavior.\n[04:10:49] WARNING: ../src/learner.cc:1115: Starting in XGBoost 1.3.0, the default evaluation metric used with the objective 'binary:logistic' was changed from 'error' to 'logloss'. Explicitly set eval_metric if you'd like to restore the old behavior.\n[04:10:51] WARNING: ../src/learner.cc:1115: Starting in XGBoost 1.3.0, the default evaluation metric used with the objective 'binary:logistic' was changed from 'error' to 'logloss'. Explicitly set eval_metric if you'd like to restore the old behavior.\n[04:10:56] WARNING: ../src/learner.cc:1115: Starting in XGBoost 1.3.0, the default evaluation metric used with the objective 'binary:logistic' was changed from 'error' to 'logloss'. Explicitly set eval_metric if you'd like to restore the old behavior.\n[04:10:58] WARNING: ../src/learner.cc:1115: Starting in XGBoost 1.3.0, the default evaluation metric used with the objective 'binary:logistic' was changed from 'error' to 'logloss'. Explicitly set eval_metric if you'd like to restore the old behavior.\n[04:11:00] WARNING: ../src/learner.cc:1115: Starting in XGBoost 1.3.0, the default evaluation metric used with the objective 'binary:logistic' was changed from 'error' to 'logloss'. Explicitly set eval_metric if you'd like to restore the old behavior.\n[04:11:02] WARNING: ../src/learner.cc:1115: Starting in XGBoost 1.3.0, the default evaluation metric used with the objective 'binary:logistic' was changed from 'error' to 'logloss'. Explicitly set eval_metric if you'd like to restore the old behavior.\n[04:11:09] WARNING: ../src/learner.cc:1115: Starting in XGBoost 1.3.0, the default evaluation metric used with the objective 'binary:logistic' was changed from 'error' to 'logloss'. Explicitly set eval_metric if you'd like to restore the old behavior.\n[04:11:11] WARNING: ../src/learner.cc:1115: Starting in XGBoost 1.3.0, the default evaluation metric used with the objective 'binary:logistic' was changed from 'error' to 'logloss'. Explicitly set eval_metric if you'd like to restore the old behavior.\n[04:11:14] WARNING: ../src/learner.cc:1115: Starting in XGBoost 1.3.0, the default evaluation metric used with the objective 'binary:logistic' was changed from 'error' to 'logloss'. Explicitly set eval_metric if you'd like to restore the old behavior.\n[04:11:16] WARNING: ../src/learner.cc:1115: Starting in XGBoost 1.3.0, the default evaluation metric used with the objective 'binary:logistic' was changed from 'error' to 'logloss'. Explicitly set eval_metric if you'd like to restore the old behavior.\n[04:11:18] WARNING: ../src/learner.cc:1115: Starting in XGBoost 1.3.0, the default evaluation metric used with the objective 'binary:logistic' was changed from 'error' to 'logloss'. Explicitly set eval_metric if you'd like to restore the old behavior.\n[04:11:20] WARNING: ../src/learner.cc:1115: Starting in XGBoost 1.3.0, the default evaluation metric used with the objective 'binary:logistic' was changed from 'error' to 'logloss'. Explicitly set eval_metric if you'd like to restore the old behavior.\n[04:11:29] WARNING: ../src/learner.cc:1115: Starting in XGBoost 1.3.0, the default evaluation metric used with the objective 'binary:logistic' was changed from 'error' to 'logloss'. Explicitly set eval_metric if you'd like to restore the old behavior.\n[04:11:34] WARNING: ../src/learner.cc:1115: Starting in XGBoost 1.3.0, the default evaluation metric used with the objective 'binary:logistic' was changed from 'error' to 'logloss'. Explicitly set eval_metric if you'd like to restore the old behavior.\n[04:11:38] WARNING: ../src/learner.cc:1115: Starting in XGBoost 1.3.0, the default evaluation metric used with the objective 'binary:logistic' was changed from 'error' to 'logloss'. Explicitly set eval_metric if you'd like to restore the old behavior.\n[04:11:43] WARNING: ../src/learner.cc:1115: Starting in XGBoost 1.3.0, the default evaluation metric used with the objective 'binary:logistic' was changed from 'error' to 'logloss'. Explicitly set eval_metric if you'd like to restore the old behavior.\n[04:11:46] WARNING: ../src/learner.cc:1115: Starting in XGBoost 1.3.0, the default evaluation metric used with the objective 'binary:logistic' was changed from 'error' to 'logloss'. Explicitly set eval_metric if you'd like to restore the old behavior.\n[04:11:51] WARNING: ../src/learner.cc:1115: Starting in XGBoost 1.3.0, the default evaluation metric used with the objective 'binary:logistic' was changed from 'error' to 'logloss'. Explicitly set eval_metric if you'd like to restore the old behavior.\n[04:11:54] WARNING: ../src/learner.cc:1115: Starting in XGBoost 1.3.0, the default evaluation metric used with the objective 'binary:logistic' was changed from 'error' to 'logloss'. Explicitly set eval_metric if you'd like to restore the old behavior.\n[04:11:56] WARNING: ../src/learner.cc:1115: Starting in XGBoost 1.3.0, the default evaluation metric used with the objective 'binary:logistic' was changed from 'error' to 'logloss'. Explicitly set eval_metric if you'd like to restore the old behavior.\n[04:11:57] WARNING: ../src/learner.cc:1115: Starting in XGBoost 1.3.0, the default evaluation metric used with the objective 'binary:logistic' was changed from 'error' to 'logloss'. Explicitly set eval_metric if you'd like to restore the old behavior.\n[04:12:04] WARNING: ../src/learner.cc:1115: Starting in XGBoost 1.3.0, the default evaluation metric used with the objective 'binary:logistic' was changed from 'error' to 'logloss'. Explicitly set eval_metric if you'd like to restore the old behavior.\n[04:12:06] WARNING: ../src/learner.cc:1115: Starting in XGBoost 1.3.0, the default evaluation metric used with the objective 'binary:logistic' was changed from 'error' to 'logloss'. Explicitly set eval_metric if you'd like to restore the old behavior.\n[04:12:07] WARNING: ../src/learner.cc:1115: Starting in XGBoost 1.3.0, the default evaluation metric used with the objective 'binary:logistic' was changed from 'error' to 'logloss'. Explicitly set eval_metric if you'd like to restore the old behavior.\n[04:12:11] WARNING: ../src/learner.cc:1115: Starting in XGBoost 1.3.0, the default evaluation metric used with the objective 'binary:logistic' was changed from 'error' to 'logloss'. Explicitly set eval_metric if you'd like to restore the old behavior.\n[04:12:14] WARNING: ../src/learner.cc:1115: Starting in XGBoost 1.3.0, the default evaluation metric used with the objective 'binary:logistic' was changed from 'error' to 'logloss'. Explicitly set eval_metric if you'd like to restore the old behavior.\n[04:12:16] WARNING: ../src/learner.cc:1115: Starting in XGBoost 1.3.0, the default evaluation metric used with the objective 'binary:logistic' was changed from 'error' to 'logloss'. Explicitly set eval_metric if you'd like to restore the old behavior.\n[04:12:25] WARNING: ../src/learner.cc:1115: Starting in XGBoost 1.3.0, the default evaluation metric used with the objective 'binary:logistic' was changed from 'error' to 'logloss'. Explicitly set eval_metric if you'd like to restore the old behavior.\n[04:12:27] WARNING: ../src/learner.cc:1115: Starting in XGBoost 1.3.0, the default evaluation metric used with the objective 'binary:logistic' was changed from 'error' to 'logloss'. Explicitly set eval_metric if you'd like to restore the old behavior.\n",
     "output_type": "stream"
    }
   ]
  },
  {
   "cell_type": "code",
   "metadata": {
    "cell_id": "65a9b5b41a094d8e8157ccdfe7c8516a",
    "tags": [],
    "deepnote_to_be_reexecuted": false,
    "source_hash": "5bcc7c28",
    "execution_start": 1649650420196,
    "execution_millis": 370,
    "deepnote_cell_type": "code",
    "deepnote_cell_height": 467.1875,
    "deepnote_output_heights": [
     21.1875,
     264
    ]
   },
   "source": "# Gráfica del desempeño del modelo vs el indice de submuestreo de columnas\nplt.plot(col_range, accuracy_scores)\nplt.xlabel('colsample')\nplt.ylabel('Accuracy')",
   "execution_count": null,
   "outputs": [
    {
     "output_type": "execute_result",
     "execution_count": 48,
     "data": {
      "text/plain": "Text(0, 0.5, 'Accuracy')"
     },
     "metadata": {}
    },
    {
     "data": {
      "text/plain": "<Figure size 432x288 with 1 Axes>",
      "image/png": "[encoded data removed]"
     },
     "metadata": {
      "needs_background": "light",
      "image/png": {
       "width": 398,
       "height": 262
      }
     },
     "output_type": "display_data"
    }
   ]
  },
  {
   "cell_type": "markdown",
   "source": "##### Accuracy del modelo XGBoost en el conjunto de test (mejores valores en los parámetros)\nFinalmente, vamos a evaluar el accuracy del modelo en el conjunto de train y test para analizar si hemos mejorado el sobre-ajuste (overfitting) que presentaba nuestro modelo XGBoost sin calibrar (el del punto 6 de este laboratorio).",
   "metadata": {
    "cell_id": "2da72c143537480494bc54a640c04287",
    "tags": [],
    "deepnote_cell_type": "markdown",
    "deepnote_cell_height": 110.796875
   }
  },
  {
   "cell_type": "code",
   "metadata": {
    "cell_id": "1af7b2fa3da34ef8848c157af75d78f3",
    "tags": [],
    "deepnote_to_be_reexecuted": false,
    "source_hash": "e1ae763b",
    "execution_start": 1649650504668,
    "execution_millis": 2767,
    "deepnote_cell_type": "code",
    "deepnote_cell_height": 426.796875
   },
   "source": "# Definición del modelo con los parámetros learning_rate=0.1, gamma=0.07 y colsample=0.5 \nclf = XGBClassifier(learning_rate=0.1, gamma=0.07, colsample_bytree=0.5, random_state=1, n_jobs=-1)\nclf.fit(X_train, y_train)\n\n# Predicciones con el Random Forest y los mejores valores de los parámetros\ny_pred_train = clf.predict(X_train) # Predicción en train\ny_pred_test = clf.predict(X_test) # Predicción en test\n\n# Calculo del accuracy para modelo Random Forest con los mejores valores de los parámetros\nacc_train = accuracy_score(y_train, y_pred_train) # Accuracy en train\nacc_test = accuracy_score(y_test, y_pred_test) # Accuracy en test\n\nacc_rdf_cal_test = acc_test\n\nprint('Accuracy evaluado respecto a la muestra de train: ', acc_train)\nprint('Accuracy evaluado respecto a la muestra de test: ', acc_test)",
   "execution_count": null,
   "outputs": [
    {
     "name": "stdout",
     "text": "[04:15:04] WARNING: ../src/learner.cc:1115: Starting in XGBoost 1.3.0, the default evaluation metric used with the objective 'binary:logistic' was changed from 'error' to 'logloss'. Explicitly set eval_metric if you'd like to restore the old behavior.\nAccuracy evaluado respecto a la muestra de train:  0.8993030863319584\nAccuracy evaluado respecto a la muestra de test:  0.8819284064665127\n",
     "output_type": "stream"
    }
   ]
  },
  {
   "cell_type": "markdown",
   "source": "### Punto 8 - Comparación y análisis de resultados\nEn la celda 8 comparen los resultados obtenidos de los diferentes modelos (random forest y XGBoost) y comenten las ventajas del mejor modelo y las desventajas del modelo con el menor desempeño.",
   "metadata": {
    "cell_id": "00021-6ae6314f-5623-417b-99ac-662ace749572",
    "deepnote_cell_type": "markdown",
    "deepnote_cell_height": 122.796875
   }
  },
  {
   "cell_type": "code",
   "metadata": {
    "cell_id": "00022-1efc9658-fb15-4a5d-9b99-2c4da0e88487",
    "deepnote_to_be_reexecuted": false,
    "source_hash": "6fcd59bc",
    "execution_start": 1649650965763,
    "execution_millis": 475,
    "deepnote_cell_type": "code",
    "deepnote_cell_height": 704,
    "deepnote_output_heights": [
     409,
     21.1875
    ]
   },
   "source": "# Celda 8\nfig = plt.figure(figsize=(10, 5))\nax = fig.add_axes([0,0,1,1])\nax.set_title(\"Comparación de modelos\")\nejeX = ['Arbol Manual', 'Bagging Manual','Bagging Libreria', 'Random Forest', 'Radom Forest Calibrado', 'XGBoost', 'XGBoost Calibrado']\nejeY = np.around([man_tre_acc,clas_tree_acc,bag_tree_acc,acc_rf_default_test,acc_rdf_cal_test,acc_xgb_def_lib_test,acc_rdf_cal_test],4)\nax.bar(ejeX,ejeY)\ndef addlabels(x,y,plotP):\n    for i in range(len(x)):\n        plotP.text(i,y[i],y[i])\naddlabels(ejeX,ejeY,plt)\nplt.show()",
   "execution_count": null,
   "outputs": [
    {
     "data": {
      "text/plain": "<Figure size 720x360 with 1 Axes>",
      "image/png": "[encoded data removed]"
     },
     "metadata": {
      "needs_background": "light",
      "image/png": {
       "width": 757,
       "height": 407
      }
     },
     "output_type": "display_data"
    }
   ]
  },
  {
   "cell_type": "markdown",
   "source": "En la gráfica se observa la **comparativa del desempeño (accuracy) de los 7 modelos desarrolados** en el laboratorio:\n- 'Arbol Manual',\n- 'Bagging Manual',\n- 'Bagging Libreria', \n- 'Random Forest', \n- 'Radom Forest Calibrado', \n- 'XGBoost', \n- 'XGBoost Calibrado'\n\nLos modelos con desempeño de resaltar son el random forest calibrado y el xgboost calibrado, se esparaba un desempeño mayor del XGBoost calibrado respecto al randomforest pues en su version original presentaba un mejor desempeño. En este escenario se consideraria recomendar el uso del randomforest calibrado pues tiene una menor exigencia computacional y presenta buenos resultados.",
   "metadata": {
    "cell_id": "79f55bcb325e462ba3db01fb1f0f4bda",
    "tags": [],
    "owner_user_id": "c9d92930-97b7-4458-a3a6-94c1d5228188",
    "deepnote_cell_type": "markdown",
    "deepnote_cell_height": 322.390625
   }
  },
  {
   "cell_type": "markdown",
   "source": "<a style='text-decoration:none;line-height:16px;display:flex;color:#5B5B62;padding:10px;justify-content:end;' href='https://deepnote.com?utm_source=created-in-deepnote-cell&projectId=456e49a2-fe28-4a38-82bc-bdb5398a2120' target=\"_blank\">\n<img alt='Created in deepnote.com' style='display:inline;max-height:16px;margin:0px;margin-right:7.5px;' src='data:image/svg+xml;base64,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' > </img>\nCreated in <span style='font-weight:600;margin-left:4px;'>Deepnote</span></a>",
   "metadata": {
    "tags": [],
    "created_in_deepnote_cell": true,
    "deepnote_cell_type": "markdown"
   }
  }
 ],
 "nbformat": 4,
 "nbformat_minor": 4,
 "metadata": {
  "kernelspec": {
   "display_name": "Python 3 (ipykernel)",
   "language": "python",
   "name": "python3"
  },
  "language_info": {
   "codemirror_mode": {
    "name": "ipython",
    "version": 3
   },
   "file_extension": ".py",
   "mimetype": "text/x-python",
   "name": "python",
   "nbconvert_exporter": "python",
   "pygments_lexer": "ipython3",
   "version": "3.8.12"
  },
  "deepnote_notebook_id": "0283698b-a416-404d-9d70-f40620577f4f",
  "deepnote": {},
  "deepnote_execution_queue": []
 }
}